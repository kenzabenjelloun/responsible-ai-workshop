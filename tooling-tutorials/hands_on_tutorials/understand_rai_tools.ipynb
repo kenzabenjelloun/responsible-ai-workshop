{
 "cells": [
  {
   "cell_type": "markdown",
   "id": "1659639f-a9e2-438c-b297-fed922ab1bd0",
   "metadata": {},
   "source": [
    "# Tools to understand the behavior of ML algorithms - Hands-on tutorials"
   ]
  },
  {
   "cell_type": "markdown",
   "id": "ea0736e6-6962-402d-8a79-b4cd0b85c4e2",
   "metadata": {},
   "source": [
    "In this notebook, we provide step-by-step guides for geting started using 3 Microsoft Responsible AI tools that fall into two categories:\n",
    "\n",
    "- **Model Fairness:** [Fairlearn](https://github.com/fairlearn/fairlearn)\n",
    "- **Model Transparency:** [InterpretML](https://github.com/interpretml/interpret) and [ErrorAnalysis](https://github.com/microsoft/responsible-ai-widgets)\n",
    "\n",
    "These are inspired by the example notebooks provided in each repo, and are meant to aggregate guides for all these tools under a single document to get you started as quickly as possible."
   ]
  },
  {
   "cell_type": "markdown",
   "id": "002b7b64-7754-4946-958c-5f276cc4f62e",
   "metadata": {},
   "source": [
    "## Fairlearn"
   ]
  },
  {
   "cell_type": "markdown",
   "id": "5d5d69b0-eef7-46e6-ac72-7250b7303277",
   "metadata": {},
   "source": [
    "Fairlearn is an open-source Python package that empowers developers of AI systems to:\n",
    "\n",
    "1. **Assess** their algorithms fairness using fairness metrics, namely:\n",
    "      * False-positive rate difference.\n",
    "      * False-negative rate difference.\n",
    "      * Equalized-odds difference.\n",
    "2. **Mitigate** any observed unfairness issues using two types of mitigation algorithms, namely:\n",
    "      * `fairlearn.reductions.GridSearch`\n",
    "      * `fairlearn.postprocessing.ThresholdOptimizer`\n",
    "\n",
    "The goal here is to show both capabilities through a single use case: a credit card default classification problem."
   ]
  },
  {
   "cell_type": "markdown",
   "id": "d0ca58c4-d3ff-42c3-a4bf-46e938e93441",
   "metadata": {},
   "source": [
    "### 0. Problem introduction"
   ]
  },
  {
   "cell_type": "markdown",
   "id": "8d7fbd80-7c6e-4a6f-b57e-3091e5418c40",
   "metadata": {},
   "source": [
    "- **Data:** The UCI dataset, which contains data on 30,000 clients and their credit card transactions at a bank in Taiwan. In addition to static client features, the dataset contains the history of credit card bill payments between April and September 2005, as well as the balance limit of the client's credit card. \n",
    "- **Target:** predict if the client will default on a card payment in the following month, October 2005.\n",
    "- **Strategy:** We first train a fairness-unaware algorithm on this dataset and show the model has fairness issues, namely a higher false-positive rate as well as a higher false-negative rate for the \"male\" group than for the \"female\" group. We then use Fairlearn to mitigate this disparity using both the `ThresholdOptimizer` and `GridSearch` algorithms."
   ]
  },
  {
   "cell_type": "code",
   "execution_count": 20,
   "id": "5cf6284b-157f-4201-a327-096d7503a467",
   "metadata": {},
   "outputs": [],
   "source": [
    "# Installing fairlearn package and other required packages (if not already done)\n",
    "\n",
    "#!pip install raiwidgets==0.18.2\n",
    "#!pip install xlrd==2.0.1\n",
    "#!pip install lime==0.2.0.1\n",
    "#!pip install SALib==1.4.5\n",
    "#!pip install matplotlib\n",
    "#!pip install dash==2.3.1\n",
    "#!pip install dash-cytoscape==0.3.0\n"
   ]
  },
  {
   "cell_type": "code",
   "execution_count": 21,
   "id": "01093af9-0e55-4163-a178-769b8709b3fb",
   "metadata": {},
   "outputs": [],
   "source": [
    "# General imports\n",
    "import numpy as np\n",
    "import pandas as pd\n",
    "import matplotlib.pyplot as plt\n",
    "%matplotlib inline\n",
    "\n",
    "# Data processing\n",
    "from sklearn.model_selection import train_test_split\n",
    "\n",
    "# Models\n",
    "import lightgbm as lgb\n",
    "from sklearn.calibration import CalibratedClassifierCV\n",
    "\n",
    "# Fairlearn algorithms and utils\n",
    "from fairlearn.postprocessing import ThresholdOptimizer\n",
    "from fairlearn.reductions import GridSearch, EqualizedOdds\n",
    "\n",
    "# Metrics\n",
    "from fairlearn.metrics import (\n",
    "    MetricFrame,\n",
    "    selection_rate, demographic_parity_difference, demographic_parity_ratio,\n",
    "    false_positive_rate, false_negative_rate,\n",
    "    false_positive_rate_difference, false_negative_rate_difference,\n",
    "    equalized_odds_difference)\n",
    "from sklearn.metrics import balanced_accuracy_score, roc_auc_score"
   ]
  },
  {
   "cell_type": "code",
   "execution_count": 22,
   "id": "22a875aa-929e-4147-bec4-1720961c269d",
   "metadata": {},
   "outputs": [
    {
     "data": {
      "text/html": [
       "<div>\n",
       "<style scoped>\n",
       "    .dataframe tbody tr th:only-of-type {\n",
       "        vertical-align: middle;\n",
       "    }\n",
       "\n",
       "    .dataframe tbody tr th {\n",
       "        vertical-align: top;\n",
       "    }\n",
       "\n",
       "    .dataframe thead th {\n",
       "        text-align: right;\n",
       "    }\n",
       "</style>\n",
       "<table border=\"1\" class=\"dataframe\">\n",
       "  <thead>\n",
       "    <tr style=\"text-align: right;\">\n",
       "      <th></th>\n",
       "      <th>LIMIT_BAL</th>\n",
       "      <th>SEX</th>\n",
       "      <th>EDUCATION</th>\n",
       "      <th>MARRIAGE</th>\n",
       "      <th>AGE</th>\n",
       "      <th>PAY_1</th>\n",
       "      <th>PAY_2</th>\n",
       "      <th>PAY_3</th>\n",
       "      <th>PAY_4</th>\n",
       "      <th>PAY_5</th>\n",
       "      <th>...</th>\n",
       "      <th>BILL_AMT4</th>\n",
       "      <th>BILL_AMT5</th>\n",
       "      <th>BILL_AMT6</th>\n",
       "      <th>PAY_AMT1</th>\n",
       "      <th>PAY_AMT2</th>\n",
       "      <th>PAY_AMT3</th>\n",
       "      <th>PAY_AMT4</th>\n",
       "      <th>PAY_AMT5</th>\n",
       "      <th>PAY_AMT6</th>\n",
       "      <th>default payment next month</th>\n",
       "    </tr>\n",
       "  </thead>\n",
       "  <tbody>\n",
       "    <tr>\n",
       "      <th>0</th>\n",
       "      <td>20000</td>\n",
       "      <td>2</td>\n",
       "      <td>2</td>\n",
       "      <td>1</td>\n",
       "      <td>24</td>\n",
       "      <td>2</td>\n",
       "      <td>2</td>\n",
       "      <td>-1</td>\n",
       "      <td>-1</td>\n",
       "      <td>-2</td>\n",
       "      <td>...</td>\n",
       "      <td>0</td>\n",
       "      <td>0</td>\n",
       "      <td>0</td>\n",
       "      <td>0</td>\n",
       "      <td>689</td>\n",
       "      <td>0</td>\n",
       "      <td>0</td>\n",
       "      <td>0</td>\n",
       "      <td>0</td>\n",
       "      <td>1</td>\n",
       "    </tr>\n",
       "    <tr>\n",
       "      <th>1</th>\n",
       "      <td>120000</td>\n",
       "      <td>2</td>\n",
       "      <td>2</td>\n",
       "      <td>2</td>\n",
       "      <td>26</td>\n",
       "      <td>-1</td>\n",
       "      <td>2</td>\n",
       "      <td>0</td>\n",
       "      <td>0</td>\n",
       "      <td>0</td>\n",
       "      <td>...</td>\n",
       "      <td>3272</td>\n",
       "      <td>3455</td>\n",
       "      <td>3261</td>\n",
       "      <td>0</td>\n",
       "      <td>1000</td>\n",
       "      <td>1000</td>\n",
       "      <td>1000</td>\n",
       "      <td>0</td>\n",
       "      <td>2000</td>\n",
       "      <td>1</td>\n",
       "    </tr>\n",
       "    <tr>\n",
       "      <th>2</th>\n",
       "      <td>90000</td>\n",
       "      <td>2</td>\n",
       "      <td>2</td>\n",
       "      <td>2</td>\n",
       "      <td>34</td>\n",
       "      <td>0</td>\n",
       "      <td>0</td>\n",
       "      <td>0</td>\n",
       "      <td>0</td>\n",
       "      <td>0</td>\n",
       "      <td>...</td>\n",
       "      <td>14331</td>\n",
       "      <td>14948</td>\n",
       "      <td>15549</td>\n",
       "      <td>1518</td>\n",
       "      <td>1500</td>\n",
       "      <td>1000</td>\n",
       "      <td>1000</td>\n",
       "      <td>1000</td>\n",
       "      <td>5000</td>\n",
       "      <td>0</td>\n",
       "    </tr>\n",
       "    <tr>\n",
       "      <th>3</th>\n",
       "      <td>50000</td>\n",
       "      <td>2</td>\n",
       "      <td>2</td>\n",
       "      <td>1</td>\n",
       "      <td>37</td>\n",
       "      <td>0</td>\n",
       "      <td>0</td>\n",
       "      <td>0</td>\n",
       "      <td>0</td>\n",
       "      <td>0</td>\n",
       "      <td>...</td>\n",
       "      <td>28314</td>\n",
       "      <td>28959</td>\n",
       "      <td>29547</td>\n",
       "      <td>2000</td>\n",
       "      <td>2019</td>\n",
       "      <td>1200</td>\n",
       "      <td>1100</td>\n",
       "      <td>1069</td>\n",
       "      <td>1000</td>\n",
       "      <td>0</td>\n",
       "    </tr>\n",
       "    <tr>\n",
       "      <th>4</th>\n",
       "      <td>50000</td>\n",
       "      <td>1</td>\n",
       "      <td>2</td>\n",
       "      <td>1</td>\n",
       "      <td>57</td>\n",
       "      <td>-1</td>\n",
       "      <td>0</td>\n",
       "      <td>-1</td>\n",
       "      <td>0</td>\n",
       "      <td>0</td>\n",
       "      <td>...</td>\n",
       "      <td>20940</td>\n",
       "      <td>19146</td>\n",
       "      <td>19131</td>\n",
       "      <td>2000</td>\n",
       "      <td>36681</td>\n",
       "      <td>10000</td>\n",
       "      <td>9000</td>\n",
       "      <td>689</td>\n",
       "      <td>679</td>\n",
       "      <td>0</td>\n",
       "    </tr>\n",
       "  </tbody>\n",
       "</table>\n",
       "<p>5 rows × 24 columns</p>\n",
       "</div>"
      ],
      "text/plain": [
       "   LIMIT_BAL  SEX  EDUCATION  MARRIAGE  AGE  PAY_1  PAY_2  PAY_3  PAY_4  \\\n",
       "0      20000    2          2         1   24      2      2     -1     -1   \n",
       "1     120000    2          2         2   26     -1      2      0      0   \n",
       "2      90000    2          2         2   34      0      0      0      0   \n",
       "3      50000    2          2         1   37      0      0      0      0   \n",
       "4      50000    1          2         1   57     -1      0     -1      0   \n",
       "\n",
       "   PAY_5  ...  BILL_AMT4  BILL_AMT5  BILL_AMT6  PAY_AMT1  PAY_AMT2  PAY_AMT3  \\\n",
       "0     -2  ...          0          0          0         0       689         0   \n",
       "1      0  ...       3272       3455       3261         0      1000      1000   \n",
       "2      0  ...      14331      14948      15549      1518      1500      1000   \n",
       "3      0  ...      28314      28959      29547      2000      2019      1200   \n",
       "4      0  ...      20940      19146      19131      2000     36681     10000   \n",
       "\n",
       "   PAY_AMT4  PAY_AMT5  PAY_AMT6  default payment next month  \n",
       "0         0         0         0                           1  \n",
       "1      1000         0      2000                           1  \n",
       "2      1000      1000      5000                           0  \n",
       "3      1100      1069      1000                           0  \n",
       "4      9000       689       679                           0  \n",
       "\n",
       "[5 rows x 24 columns]"
      ]
     },
     "execution_count": 22,
     "metadata": {},
     "output_type": "execute_result"
    }
   ],
   "source": [
    "# Load the data\n",
    "data_url = \"http://archive.ics.uci.edu/ml/machine-learning-databases/00350/default%20of%20credit%20card%20clients.xls\"\n",
    "dataset = pd.read_excel(io=data_url, header=1).drop(columns=['ID']).rename(columns={'PAY_0':'PAY_1'})\n",
    "dataset.head()"
   ]
  },
  {
   "cell_type": "markdown",
   "id": "0a1d61eb-a0ac-40cc-a96a-6477f2c8abb4",
   "metadata": {},
   "source": [
    "Dataset columns:\n",
    "\n",
    "* `LIMIT_BAL`: credit card limit, will be replaced by a synthetic feature\n",
    "* `SEX, EDUCATION, MARRIAGE, AGE`: client demographic features\n",
    "* `BILL_AMT[1-6]`: amount on bill statement for April-September\n",
    "* `PAY_AMT[1-6]`: payment amount for April-September\n",
    "* `default payment next month`: target, whether the client defaulted the following month"
   ]
  },
  {
   "cell_type": "code",
   "execution_count": 23,
   "id": "ae6f55f1-892e-45d6-a7ea-b32ac10633fd",
   "metadata": {},
   "outputs": [],
   "source": [
    "# Extract the sensitive feature\n",
    "A = dataset[\"SEX\"]\n",
    "A_str = A.map({ 2:\"female\", 1:\"male\"})\n",
    "# Extract the target\n",
    "Y = dataset[\"default payment next month\"]\n",
    "categorical_features = ['EDUCATION', 'MARRIAGE','PAY_1', 'PAY_2', 'PAY_3', 'PAY_4', 'PAY_5', 'PAY_6']\n",
    "sensitive_features = dataset[['SEX']]\n",
    "for col in categorical_features:\n",
    "    dataset[col] = dataset[col].astype('category')"
   ]
  },
  {
   "cell_type": "markdown",
   "id": "d94b9867-4053-4f1a-bd22-753a88a15a25",
   "metadata": {},
   "source": [
    "**Introducing a biased Synthetic Feature:** We manipulate the balance-limit feature `LIMIT_BAL` to make it highly predictive for the \"female\" group but not for the \"male\" group. Specifically, we set this up, so that a lower credit limit indicates that a female client is less likely to default, but provides no information on a male client's probability of default."
   ]
  },
  {
   "cell_type": "code",
   "execution_count": 24,
   "id": "058e6096-6940-4a02-b35c-e88078c77119",
   "metadata": {},
   "outputs": [],
   "source": [
    "dist_scale = 0.5\n",
    "np.random.seed(12345)\n",
    "# Make 'LIMIT_BAL' informative of the target\n",
    "dataset['LIMIT_BAL'] = Y + np.random.normal(scale=dist_scale, size=dataset.shape[0])\n",
    "# But then make it uninformative for the male clients\n",
    "dataset.loc[A==1, 'LIMIT_BAL'] = np.random.normal(scale=dist_scale, size=dataset[A==1].shape[0])"
   ]
  },
  {
   "cell_type": "code",
   "execution_count": 25,
   "id": "f407e6a7-d185-40d6-802d-541bb2c60cb0",
   "metadata": {},
   "outputs": [],
   "source": [
    "# Train-test split\n",
    "df_train, df_test, Y_train, Y_test, A_train, A_test, A_str_train, A_str_test, sensitive_features_train, sensitive_features_test = train_test_split(\n",
    "    dataset.drop(columns=['SEX', 'default payment next month']), \n",
    "    Y, \n",
    "    A, \n",
    "    A_str,\n",
    "    sensitive_features,\n",
    "    test_size = 0.3, \n",
    "    random_state=12345,\n",
    "    stratify=Y)"
   ]
  },
  {
   "cell_type": "code",
   "execution_count": 26,
   "id": "d5bf6fe2-d916-4927-b9aa-cd66d8ef388d",
   "metadata": {},
   "outputs": [],
   "source": [
    "# Some helper functions to be used later\n",
    "def get_metrics_df(models_dict, y_true, group):\n",
    "    metrics_dict = {\n",
    "        \"Overall selection rate\": (\n",
    "            lambda x: selection_rate(y_true, x), True),\n",
    "        \"Demographic parity difference\": (\n",
    "            lambda x: demographic_parity_difference(y_true, x, sensitive_features=group), True),\n",
    "        \"Demographic parity ratio\": (\n",
    "            lambda x: demographic_parity_ratio(y_true, x, sensitive_features=group), True),\n",
    "        \"------\": (lambda x: \"\", True),\n",
    "        \"Overall balanced error rate\": (\n",
    "            lambda x: 1-balanced_accuracy_score(y_true, x), True),\n",
    "        \"Balanced error rate difference\": (\n",
    "            lambda x: MetricFrame(balanced_accuracy_score, y_true, x, sensitive_features=group).difference(method='between_groups'), True),\n",
    "        \" ------\": (lambda x: \"\", True),\n",
    "        \"False positive rate difference\": (\n",
    "            lambda x: false_positive_rate_difference(y_true, x, sensitive_features=group), True),\n",
    "        \"False negative rate difference\": (\n",
    "            lambda x: false_negative_rate_difference(y_true, x, sensitive_features=group), True),\n",
    "        \"Equalized odds difference\": (\n",
    "            lambda x: equalized_odds_difference(y_true, x, sensitive_features=group), True),\n",
    "        \"  ------\": (lambda x: \"\", True),\n",
    "        \"Overall AUC\": (\n",
    "            lambda x: roc_auc_score(y_true, x), False),\n",
    "        \"AUC difference\": (\n",
    "            lambda x: MetricFrame(roc_auc_score, y_true, x, sensitive_features=group).difference(method='between_groups'), False),\n",
    "    }\n",
    "    df_dict = {}\n",
    "    for metric_name, (metric_func, use_preds) in metrics_dict.items():\n",
    "        df_dict[metric_name] = [metric_func(preds) if use_preds else metric_func(scores) \n",
    "                                for model_name, (preds, scores) in models_dict.items()]\n",
    "    return pd.DataFrame.from_dict(df_dict, orient=\"index\", columns=models_dict.keys())"
   ]
  },
  {
   "cell_type": "markdown",
   "id": "2c5b1873-d37d-4158-918f-1d79b6c8d662",
   "metadata": {},
   "source": [
    "### 1. Assessing unfairness"
   ]
  },
  {
   "cell_type": "markdown",
   "id": "45165dc3-50d4-4b68-81c8-2f537749c432",
   "metadata": {},
   "source": [
    "We first train an out-of-the-box lightgbm model on the modified data and assess several fairness metrics."
   ]
  },
  {
   "cell_type": "code",
   "execution_count": 27,
   "id": "9f7616bb-4c0d-44ff-bd22-eb7ded866b13",
   "metadata": {},
   "outputs": [
    {
     "data": {
      "text/plain": [
       "LGBMClassifier(learning_rate=0.03, max_depth=3, metric='auc', num_leaves=10,\n",
       "               objective='binary')"
      ]
     },
     "execution_count": 27,
     "metadata": {},
     "output_type": "execute_result"
    }
   ],
   "source": [
    "lgb_params = {\n",
    "    'objective' : 'binary',\n",
    "    'metric' : 'auc',\n",
    "    'learning_rate': 0.03,\n",
    "    'num_leaves' : 10,\n",
    "    'max_depth' : 3\n",
    "}\n",
    "model = lgb.LGBMClassifier(**lgb_params)\n",
    "model.fit(df_train, Y_train)"
   ]
  },
  {
   "cell_type": "code",
   "execution_count": 28,
   "id": "609d277b-bf2b-488a-89a0-b9a26f40b040",
   "metadata": {},
   "outputs": [
    {
     "name": "stderr",
     "output_type": "stream",
     "text": [
      "You have provided 'metrics', 'y_true', 'y_pred' as positional arguments. Please pass them as keyword arguments. From version 0.10.0 passing them as positional arguments will result in an error.\n",
      "You have provided 'metrics', 'y_true', 'y_pred' as positional arguments. Please pass them as keyword arguments. From version 0.10.0 passing them as positional arguments will result in an error.\n"
     ]
    },
    {
     "data": {
      "text/html": [
       "<div>\n",
       "<style scoped>\n",
       "    .dataframe tbody tr th:only-of-type {\n",
       "        vertical-align: middle;\n",
       "    }\n",
       "\n",
       "    .dataframe tbody tr th {\n",
       "        vertical-align: top;\n",
       "    }\n",
       "\n",
       "    .dataframe thead th {\n",
       "        text-align: right;\n",
       "    }\n",
       "</style>\n",
       "<table border=\"1\" class=\"dataframe\">\n",
       "  <thead>\n",
       "    <tr style=\"text-align: right;\">\n",
       "      <th></th>\n",
       "      <th>Unmitigated</th>\n",
       "    </tr>\n",
       "  </thead>\n",
       "  <tbody>\n",
       "    <tr>\n",
       "      <th>Overall selection rate</th>\n",
       "      <td>0.268111</td>\n",
       "    </tr>\n",
       "    <tr>\n",
       "      <th>Demographic parity difference</th>\n",
       "      <td>0.051105</td>\n",
       "    </tr>\n",
       "    <tr>\n",
       "      <th>Demographic parity ratio</th>\n",
       "      <td>0.8225</td>\n",
       "    </tr>\n",
       "    <tr>\n",
       "      <th>------</th>\n",
       "      <td></td>\n",
       "    </tr>\n",
       "    <tr>\n",
       "      <th>Overall balanced error rate</th>\n",
       "      <td>0.220682</td>\n",
       "    </tr>\n",
       "    <tr>\n",
       "      <th>Balanced error rate difference</th>\n",
       "      <td>0.175789</td>\n",
       "    </tr>\n",
       "    <tr>\n",
       "      <th>------</th>\n",
       "      <td></td>\n",
       "    </tr>\n",
       "    <tr>\n",
       "      <th>False positive rate difference</th>\n",
       "      <td>0.009296</td>\n",
       "    </tr>\n",
       "    <tr>\n",
       "      <th>False negative rate difference</th>\n",
       "      <td>0.342283</td>\n",
       "    </tr>\n",
       "    <tr>\n",
       "      <th>Equalized odds difference</th>\n",
       "      <td>0.342283</td>\n",
       "    </tr>\n",
       "    <tr>\n",
       "      <th>------</th>\n",
       "      <td></td>\n",
       "    </tr>\n",
       "    <tr>\n",
       "      <th>Overall AUC</th>\n",
       "      <td>0.851931</td>\n",
       "    </tr>\n",
       "    <tr>\n",
       "      <th>AUC difference</th>\n",
       "      <td>0.189712</td>\n",
       "    </tr>\n",
       "  </tbody>\n",
       "</table>\n",
       "</div>"
      ],
      "text/plain": [
       "                               Unmitigated\n",
       "Overall selection rate            0.268111\n",
       "Demographic parity difference     0.051105\n",
       "Demographic parity ratio            0.8225\n",
       "------                                    \n",
       "Overall balanced error rate       0.220682\n",
       "Balanced error rate difference    0.175789\n",
       " ------                                   \n",
       "False positive rate difference    0.009296\n",
       "False negative rate difference    0.342283\n",
       "Equalized odds difference         0.342283\n",
       "  ------                                  \n",
       "Overall AUC                       0.851931\n",
       "AUC difference                    0.189712"
      ]
     },
     "execution_count": 28,
     "metadata": {},
     "output_type": "execute_result"
    }
   ],
   "source": [
    "# Scores on test set\n",
    "test_scores = model.predict_proba(df_test)[:, 1]\n",
    "# Predictions (0 or 1) on test set\n",
    "test_preds = (test_scores >= np.mean(Y_train)) * 1\n",
    "# Metrics\n",
    "models_dict = {\"Unmitigated\": (test_preds, test_scores)}\n",
    "get_metrics_df(models_dict, Y_test, A_str_test)"
   ]
  },
  {
   "cell_type": "code",
   "execution_count": null,
   "id": "c50c7a70-71c2-4e43-a677-ba141efe5c23",
   "metadata": {},
   "outputs": [],
   "source": [
    "# IMPORTANT NOTE: please only run this cell is you have correctly intalled the raiwidgets library, if not you can still run the rest of the notebook's cells and skip this visualization with no problem.\n",
    "from raiwidgets import FairnessDashboard\n",
    "Y_pred = model.predict(df_test)\n",
    "FairnessDashboard(sensitive_features=sensitive_features_test,\n",
    "                  y_true=Y_test,\n",
    "                  y_pred=Y_pred)"
   ]
  },
  {
   "cell_type": "markdown",
   "id": "c34e6d18-f220-4b45-9a9f-bc4b42b33bd1",
   "metadata": {},
   "source": [
    "**Remarks:**\n",
    "- As the overall **performance metric** we use the _area under ROC curve_ (AUC), which is suited to classification problems with a large imbalance between positive and negative examples. For binary classifiers, this is the same as _balanced accuracy_.\n",
    "\n",
    "- As the **fairness metric** we use *equalized odds difference*, which quantifies the disparity in accuracy experienced by different demographics. Our goal is to assure that neither of the two groups (\"male\" vs \"female\") has substantially larger false-positive rates or false-negative rates than the other group. The equalized odds difference is equal to the larger of the following two numbers: (1) the difference between false-positive rates of the two groups, (2) the difference between false-negative rates of the two groups. The closer to zero the Equalized odds difference is, the better.\n",
    "\n",
    "The table above shows the overall AUC of 0.85 (based on continuous predictions) and the overall balanced error rate of 0.22 (based on 0/1 predictions). Both of these are satisfactory in our application context. However, there is a large disparity in accuracy rates (as indicated by the balanced error rate difference) and even larger when we consider the equalized-odds difference. As a sanity check, we also show the demographic parity ratio, whose level (slightly above 0.8) is considered satisfactory in this context.\n",
    "\n",
    "Now that we detected that there is indeed a fairness issue, let's see how we can mitigate it."
   ]
  },
  {
   "cell_type": "markdown",
   "id": "73f1ae00-d764-4892-a8c6-4a33ed98a504",
   "metadata": {},
   "source": [
    "### 2. Mitigating unfairness issues"
   ]
  },
  {
   "cell_type": "markdown",
   "id": "ff6941cc-4de5-413e-95e1-e0c904970d1c",
   "metadata": {},
   "source": [
    "#### Mitigating Equalized Odds Difference with Postprocessing"
   ]
  },
  {
   "cell_type": "markdown",
   "id": "fa944909-e206-40b3-ab12-df4b1609774b",
   "metadata": {},
   "source": [
    "We attempt to mitigate the disparities in the `lightgbm` predictions using the Fairlearn postprocessing algorithm `ThresholdOptimizer`. This algorithm finds a suitable threshold for the scores (class probabilities) produced by the `lightgbm` model by optimizing the accuracy rate under the constraint that the equalized odds difference (on training data) is zero. Since our goal is to optimize balanced accuracy, we resample the training data to have the same number of positive and negative examples. This means that `ThresholdOptimizer` is effectively optimizing balanced accuracy on the original data."
   ]
  },
  {
   "cell_type": "code",
   "execution_count": 30,
   "id": "524a89b3-1c2d-4f2e-b265-ade1eb64ce02",
   "metadata": {},
   "outputs": [
    {
     "name": "stderr",
     "output_type": "stream",
     "text": [
      "'predict_method' default value is changed from 'predict' to 'auto'. Explicitly pass `predict_method='predict' to replicate the old behavior, or pass `predict_method='auto' or other valid values to silence this warning.\n",
      "You have provided 'metrics', 'y_true', 'y_pred' as positional arguments. Please pass them as keyword arguments. From version 0.10.0 passing them as positional arguments will result in an error.\n",
      "You have provided 'metrics', 'y_true', 'y_pred' as positional arguments. Please pass them as keyword arguments. From version 0.10.0 passing them as positional arguments will result in an error.\n",
      "You have provided 'metrics', 'y_true', 'y_pred' as positional arguments. Please pass them as keyword arguments. From version 0.10.0 passing them as positional arguments will result in an error.\n",
      "You have provided 'metrics', 'y_true', 'y_pred' as positional arguments. Please pass them as keyword arguments. From version 0.10.0 passing them as positional arguments will result in an error.\n"
     ]
    },
    {
     "data": {
      "text/html": [
       "<div>\n",
       "<style scoped>\n",
       "    .dataframe tbody tr th:only-of-type {\n",
       "        vertical-align: middle;\n",
       "    }\n",
       "\n",
       "    .dataframe tbody tr th {\n",
       "        vertical-align: top;\n",
       "    }\n",
       "\n",
       "    .dataframe thead th {\n",
       "        text-align: right;\n",
       "    }\n",
       "</style>\n",
       "<table border=\"1\" class=\"dataframe\">\n",
       "  <thead>\n",
       "    <tr style=\"text-align: right;\">\n",
       "      <th></th>\n",
       "      <th>Unmitigated</th>\n",
       "      <th>ThresholdOptimizer</th>\n",
       "    </tr>\n",
       "  </thead>\n",
       "  <tbody>\n",
       "    <tr>\n",
       "      <th>Overall selection rate</th>\n",
       "      <td>0.268111</td>\n",
       "      <td>0.080778</td>\n",
       "    </tr>\n",
       "    <tr>\n",
       "      <th>Demographic parity difference</th>\n",
       "      <td>0.051105</td>\n",
       "      <td>0.005265</td>\n",
       "    </tr>\n",
       "    <tr>\n",
       "      <th>Demographic parity ratio</th>\n",
       "      <td>0.8225</td>\n",
       "      <td>0.937323</td>\n",
       "    </tr>\n",
       "    <tr>\n",
       "      <th>------</th>\n",
       "      <td></td>\n",
       "      <td></td>\n",
       "    </tr>\n",
       "    <tr>\n",
       "      <th>Overall balanced error rate</th>\n",
       "      <td>0.220682</td>\n",
       "      <td>0.406107</td>\n",
       "    </tr>\n",
       "    <tr>\n",
       "      <th>Balanced error rate difference</th>\n",
       "      <td>0.175789</td>\n",
       "      <td>0.007486</td>\n",
       "    </tr>\n",
       "    <tr>\n",
       "      <th>------</th>\n",
       "      <td></td>\n",
       "      <td></td>\n",
       "    </tr>\n",
       "    <tr>\n",
       "      <th>False positive rate difference</th>\n",
       "      <td>0.009296</td>\n",
       "      <td>0.002053</td>\n",
       "    </tr>\n",
       "    <tr>\n",
       "      <th>False negative rate difference</th>\n",
       "      <td>0.342283</td>\n",
       "      <td>0.012919</td>\n",
       "    </tr>\n",
       "    <tr>\n",
       "      <th>Equalized odds difference</th>\n",
       "      <td>0.342283</td>\n",
       "      <td>0.012919</td>\n",
       "    </tr>\n",
       "    <tr>\n",
       "      <th>------</th>\n",
       "      <td></td>\n",
       "      <td></td>\n",
       "    </tr>\n",
       "    <tr>\n",
       "      <th>Overall AUC</th>\n",
       "      <td>0.851931</td>\n",
       "      <td>0.593893</td>\n",
       "    </tr>\n",
       "    <tr>\n",
       "      <th>AUC difference</th>\n",
       "      <td>0.189712</td>\n",
       "      <td>0.007486</td>\n",
       "    </tr>\n",
       "  </tbody>\n",
       "</table>\n",
       "</div>"
      ],
      "text/plain": [
       "                               Unmitigated ThresholdOptimizer\n",
       "Overall selection rate            0.268111           0.080778\n",
       "Demographic parity difference     0.051105           0.005265\n",
       "Demographic parity ratio            0.8225           0.937323\n",
       "------                                                       \n",
       "Overall balanced error rate       0.220682           0.406107\n",
       "Balanced error rate difference    0.175789           0.007486\n",
       " ------                                                      \n",
       "False positive rate difference    0.009296           0.002053\n",
       "False negative rate difference    0.342283           0.012919\n",
       "Equalized odds difference         0.342283           0.012919\n",
       "  ------                                                     \n",
       "Overall AUC                       0.851931           0.593893\n",
       "AUC difference                    0.189712           0.007486"
      ]
     },
     "execution_count": 30,
     "metadata": {},
     "output_type": "execute_result"
    }
   ],
   "source": [
    "postprocess_est = ThresholdOptimizer(\n",
    "    estimator=model,\n",
    "    constraints=\"equalized_odds\",\n",
    "    prefit=True)\n",
    "\n",
    "# Balanced data set is obtained by sampling the same number of points from the majority class (Y=0)\n",
    "# as there are points in the minority class (Y=1)\n",
    "balanced_idx1 = df_train[Y_train==1].index\n",
    "pp_train_idx = balanced_idx1.union(Y_train[Y_train==0].sample(n=balanced_idx1.size, random_state=1234).index)\n",
    "\n",
    "df_train_balanced = df_train.loc[pp_train_idx, :]\n",
    "Y_train_balanced = Y_train.loc[pp_train_idx]\n",
    "A_train_balanced = A_train.loc[pp_train_idx]\n",
    "\n",
    "postprocess_est.fit(df_train_balanced, Y_train_balanced, sensitive_features=A_train_balanced)\n",
    "\n",
    "postprocess_preds = postprocess_est.predict(df_test, sensitive_features=A_test)\n",
    "models_dict = {\"Unmitigated\": (test_preds, test_scores),\n",
    "              \"ThresholdOptimizer\": (postprocess_preds, postprocess_preds)}\n",
    "get_metrics_df(models_dict, Y_test, A_str_test)"
   ]
  },
  {
   "cell_type": "markdown",
   "id": "ec35d45e-3749-4faf-8d90-078e52cae809",
   "metadata": {},
   "source": [
    "We observe that the `ThresholdOptimizer` algorithm significantly reduces the disparity according to multiple metrics. However, the performance metrics (balanced error rate as well as AUC) get worse. Before deploying such a model in practice, it would be important to examine in more detail why we observe such a sharp trade-off. In our case it is because the available features are much less informative for one of the demographic groups than for the other.\n",
    "\n",
    "Note that unlike the unmitigated model, `ThresholdOptimizer` produces 0/1 predictions, so its balanced error rate difference is equal to the AUC difference, and its overall balanced error rate is equal to 1 - overall AUC."
   ]
  },
  {
   "cell_type": "markdown",
   "id": "bdf2398d-3ccf-4dc5-9c44-0e4b7152f061",
   "metadata": {},
   "source": [
    "#### Mitigating Equalized Odds Difference with GridSearch"
   ]
  },
  {
   "cell_type": "markdown",
   "id": "218a4570-cbc6-4bc2-95ce-e39ba387a6e3",
   "metadata": {},
   "source": [
    "We now attempt to mitigate disparities using the `GridSearch` algorithm. Unlike `ThresholdOptimizer`, the predictors produced by `GridSearch` do not access the sensitive feature at test time. Also, rather than training a single model, we train multiple models corresponding to different trade-off points between the performance metric (balanced accuracy) and fairness metric (equalized odds difference)."
   ]
  },
  {
   "cell_type": "code",
   "execution_count": null,
   "id": "cac410d5-d6b1-4582-9bda-50a7863b928c",
   "metadata": {},
   "outputs": [],
   "source": [
    "# Train GridSearch\n",
    "sweep = GridSearch(model,\n",
    "                   constraints=EqualizedOdds(),\n",
    "                   grid_size=50,\n",
    "                   grid_limit=3)\n",
    "\n",
    "sweep.fit(df_train_balanced, Y_train_balanced, sensitive_features=A_train_balanced)"
   ]
  },
  {
   "cell_type": "code",
   "execution_count": 32,
   "id": "d7709347-5d73-4b65-8402-7ea25edc7e9b",
   "metadata": {},
   "outputs": [
    {
     "data": {
      "image/png": "[encoded data removed]",
      "text/plain": [
       "<Figure size 432x288 with 1 Axes>"
      ]
     },
     "metadata": {
      "needs_background": "light"
     },
     "output_type": "display_data"
    }
   ],
   "source": [
    "sweep_preds = [predictor.predict(df_test) for predictor in sweep.predictors_] \n",
    "sweep_scores = [predictor.predict_proba(df_test)[:, 1] for predictor in sweep.predictors_] \n",
    "\n",
    "equalized_odds_sweep = [\n",
    "    equalized_odds_difference(Y_test, preds, sensitive_features=A_str_test)\n",
    "    for preds in sweep_preds\n",
    "]\n",
    "balanced_accuracy_sweep = [balanced_accuracy_score(Y_test, preds) for preds in sweep_preds]\n",
    "auc_sweep = [roc_auc_score(Y_test, scores) for scores in sweep_scores]\n",
    "\n",
    "# Select only non-dominated models (with respect to balanced accuracy and equalized odds difference)\n",
    "all_results = pd.DataFrame(\n",
    "    {\"predictor\": sweep.predictors_, \"accuracy\": balanced_accuracy_sweep, \"disparity\": equalized_odds_sweep}\n",
    ") \n",
    "non_dominated = [] \n",
    "for row in all_results.itertuples(): \n",
    "    accuracy_for_lower_or_eq_disparity = all_results[\"accuracy\"][all_results[\"disparity\"] <= row.disparity] \n",
    "    if row.accuracy >= accuracy_for_lower_or_eq_disparity.max(): \n",
    "        non_dominated.append(True)\n",
    "    else:\n",
    "        non_dominated.append(False)\n",
    "\n",
    "equalized_odds_sweep_non_dominated = np.asarray(equalized_odds_sweep)[non_dominated]\n",
    "balanced_accuracy_non_dominated = np.asarray(balanced_accuracy_sweep)[non_dominated]\n",
    "auc_non_dominated = np.asarray(auc_sweep)[non_dominated]\n",
    "\n",
    "# Plot equalized odds difference vs balanced accuracy\n",
    "plt.scatter(balanced_accuracy_non_dominated, equalized_odds_sweep_non_dominated, label=\"GridSearch Models\")\n",
    "plt.scatter(balanced_accuracy_score(Y_test, test_preds),\n",
    "            equalized_odds_difference(Y_test, test_preds, sensitive_features=A_str_test), \n",
    "            label=\"Unmitigated Model\")\n",
    "plt.scatter(balanced_accuracy_score(Y_test, postprocess_preds), \n",
    "            equalized_odds_difference(Y_test, postprocess_preds, sensitive_features=A_str_test),\n",
    "            label=\"ThresholdOptimizer Model\")\n",
    "plt.xlabel(\"Balanced Accuracy\")\n",
    "plt.ylabel(\"Equalized Odds Difference\")\n",
    "plt.legend(bbox_to_anchor=(1.55, 1))\n",
    "plt.show()"
   ]
  },
  {
   "cell_type": "code",
   "execution_count": 33,
   "id": "32f37d7e-cb64-48fc-816b-a6f80bd90a24",
   "metadata": {},
   "outputs": [
    {
     "name": "stderr",
     "output_type": "stream",
     "text": [
      "You have provided 'metrics', 'y_true', 'y_pred' as positional arguments. Please pass them as keyword arguments. From version 0.10.0 passing them as positional arguments will result in an error.\n",
      "You have provided 'metrics', 'y_true', 'y_pred' as positional arguments. Please pass them as keyword arguments. From version 0.10.0 passing them as positional arguments will result in an error.\n",
      "You have provided 'metrics', 'y_true', 'y_pred' as positional arguments. Please pass them as keyword arguments. From version 0.10.0 passing them as positional arguments will result in an error.\n",
      "You have provided 'metrics', 'y_true', 'y_pred' as positional arguments. Please pass them as keyword arguments. From version 0.10.0 passing them as positional arguments will result in an error.\n",
      "You have provided 'metrics', 'y_true', 'y_pred' as positional arguments. Please pass them as keyword arguments. From version 0.10.0 passing them as positional arguments will result in an error.\n",
      "You have provided 'metrics', 'y_true', 'y_pred' as positional arguments. Please pass them as keyword arguments. From version 0.10.0 passing them as positional arguments will result in an error.\n",
      "You have provided 'metrics', 'y_true', 'y_pred' as positional arguments. Please pass them as keyword arguments. From version 0.10.0 passing them as positional arguments will result in an error.\n",
      "You have provided 'metrics', 'y_true', 'y_pred' as positional arguments. Please pass them as keyword arguments. From version 0.10.0 passing them as positional arguments will result in an error.\n"
     ]
    },
    {
     "data": {
      "text/html": [
       "<div>\n",
       "<style scoped>\n",
       "    .dataframe tbody tr th:only-of-type {\n",
       "        vertical-align: middle;\n",
       "    }\n",
       "\n",
       "    .dataframe tbody tr th {\n",
       "        vertical-align: top;\n",
       "    }\n",
       "\n",
       "    .dataframe thead th {\n",
       "        text-align: right;\n",
       "    }\n",
       "</style>\n",
       "<table border=\"1\" class=\"dataframe\">\n",
       "  <thead>\n",
       "    <tr style=\"text-align: right;\">\n",
       "      <th></th>\n",
       "      <th>Unmitigated</th>\n",
       "      <th>ThresholdOptimizer</th>\n",
       "      <th>GridSearch_39</th>\n",
       "      <th>GridSearch_40</th>\n",
       "    </tr>\n",
       "  </thead>\n",
       "  <tbody>\n",
       "    <tr>\n",
       "      <th>Overall selection rate</th>\n",
       "      <td>0.268111</td>\n",
       "      <td>0.080778</td>\n",
       "      <td>0.268667</td>\n",
       "      <td>0.256</td>\n",
       "    </tr>\n",
       "    <tr>\n",
       "      <th>Demographic parity difference</th>\n",
       "      <td>0.051105</td>\n",
       "      <td>0.005265</td>\n",
       "      <td>0.020546</td>\n",
       "      <td>0.03327</td>\n",
       "    </tr>\n",
       "    <tr>\n",
       "      <th>Demographic parity ratio</th>\n",
       "      <td>0.8225</td>\n",
       "      <td>0.937323</td>\n",
       "      <td>0.926947</td>\n",
       "      <td>0.87962</td>\n",
       "    </tr>\n",
       "    <tr>\n",
       "      <th>------</th>\n",
       "      <td></td>\n",
       "      <td></td>\n",
       "      <td></td>\n",
       "      <td></td>\n",
       "    </tr>\n",
       "    <tr>\n",
       "      <th>Overall balanced error rate</th>\n",
       "      <td>0.220682</td>\n",
       "      <td>0.406107</td>\n",
       "      <td>0.264572</td>\n",
       "      <td>0.273208</td>\n",
       "    </tr>\n",
       "    <tr>\n",
       "      <th>Balanced error rate difference</th>\n",
       "      <td>0.175789</td>\n",
       "      <td>0.007486</td>\n",
       "      <td>0.066646</td>\n",
       "      <td>0.040527</td>\n",
       "    </tr>\n",
       "    <tr>\n",
       "      <th>------</th>\n",
       "      <td></td>\n",
       "      <td></td>\n",
       "      <td></td>\n",
       "      <td></td>\n",
       "    </tr>\n",
       "    <tr>\n",
       "      <th>False positive rate difference</th>\n",
       "      <td>0.009296</td>\n",
       "      <td>0.002053</td>\n",
       "      <td>0.034358</td>\n",
       "      <td>0.035793</td>\n",
       "    </tr>\n",
       "    <tr>\n",
       "      <th>False negative rate difference</th>\n",
       "      <td>0.342283</td>\n",
       "      <td>0.012919</td>\n",
       "      <td>0.098935</td>\n",
       "      <td>0.045262</td>\n",
       "    </tr>\n",
       "    <tr>\n",
       "      <th>Equalized odds difference</th>\n",
       "      <td>0.342283</td>\n",
       "      <td>0.012919</td>\n",
       "      <td>0.098935</td>\n",
       "      <td>0.045262</td>\n",
       "    </tr>\n",
       "    <tr>\n",
       "      <th>------</th>\n",
       "      <td></td>\n",
       "      <td></td>\n",
       "      <td></td>\n",
       "      <td></td>\n",
       "    </tr>\n",
       "    <tr>\n",
       "      <th>Overall AUC</th>\n",
       "      <td>0.851931</td>\n",
       "      <td>0.593893</td>\n",
       "      <td>0.805242</td>\n",
       "      <td>0.799174</td>\n",
       "    </tr>\n",
       "    <tr>\n",
       "      <th>AUC difference</th>\n",
       "      <td>0.189712</td>\n",
       "      <td>0.007486</td>\n",
       "      <td>0.062807</td>\n",
       "      <td>0.055957</td>\n",
       "    </tr>\n",
       "  </tbody>\n",
       "</table>\n",
       "</div>"
      ],
      "text/plain": [
       "                               Unmitigated ThresholdOptimizer GridSearch_39  \\\n",
       "Overall selection rate            0.268111           0.080778      0.268667   \n",
       "Demographic parity difference     0.051105           0.005265      0.020546   \n",
       "Demographic parity ratio            0.8225           0.937323      0.926947   \n",
       "------                                                                        \n",
       "Overall balanced error rate       0.220682           0.406107      0.264572   \n",
       "Balanced error rate difference    0.175789           0.007486      0.066646   \n",
       " ------                                                                       \n",
       "False positive rate difference    0.009296           0.002053      0.034358   \n",
       "False negative rate difference    0.342283           0.012919      0.098935   \n",
       "Equalized odds difference         0.342283           0.012919      0.098935   \n",
       "  ------                                                                      \n",
       "Overall AUC                       0.851931           0.593893      0.805242   \n",
       "AUC difference                    0.189712           0.007486      0.062807   \n",
       "\n",
       "                               GridSearch_40  \n",
       "Overall selection rate                 0.256  \n",
       "Demographic parity difference        0.03327  \n",
       "Demographic parity ratio             0.87962  \n",
       "------                                        \n",
       "Overall balanced error rate         0.273208  \n",
       "Balanced error rate difference      0.040527  \n",
       " ------                                       \n",
       "False positive rate difference      0.035793  \n",
       "False negative rate difference      0.045262  \n",
       "Equalized odds difference           0.045262  \n",
       "  ------                                      \n",
       "Overall AUC                         0.799174  \n",
       "AUC difference                      0.055957  "
      ]
     },
     "execution_count": 33,
     "metadata": {},
     "output_type": "execute_result"
    }
   ],
   "source": [
    "# Compare GridSearch models with low values of equalized odds difference with the previously constructed models\n",
    "grid_search_dict = {\"GridSearch_{}\".format(i): (sweep_preds[i], sweep_scores[i])\n",
    "                    for i in range(len(sweep_preds))\n",
    "                    if non_dominated[i] and equalized_odds_sweep[i]<0.1}\n",
    "models_dict.update(grid_search_dict)\n",
    "get_metrics_df(models_dict, Y_test, A_str_test)"
   ]
  },
  {
   "cell_type": "markdown",
   "id": "bd16884f-e2f1-4936-b4d5-5632d3818839",
   "metadata": {},
   "source": [
    "### 3. Fairlearn tutorial conclusion"
   ]
  },
  {
   "cell_type": "markdown",
   "id": "25a0ba42-9396-4877-8c23-6d1b0ccffd63",
   "metadata": {},
   "source": [
    "In this Fairlearn tutorial, we explored how a fairness-unaware model performed on the classification task in contrast to the postprocessed `ThresholdOptimizer` model and the `GridSearch` model. The `ThresholdOptimizer` greatly reduced the disparity in performance across multiple fairness metrics. However the overall error rate and AUC for the `ThresholdOptimizer` model were worse compared to the fairness-unaware model. \n",
    "\n",
    "With the `GridSearch` algorithm, we trained multiple models that balance the trade-off between the balanced accuracy and the equalized odds fairness metric. After engaging with relevant stakeholders, the data scientist can deploy the model that balances the performance-fairness trade-off that meets the needs of the business."
   ]
  },
  {
   "cell_type": "markdown",
   "id": "fd8734d2-efb4-498b-b4fa-c5af6a6f881a",
   "metadata": {},
   "source": [
    "## InterpretML"
   ]
  },
  {
   "cell_type": "markdown",
   "id": "c8026079-a697-4c29-9899-abdab4ff25d5",
   "metadata": {},
   "source": [
    "InterpretML is an open-source package (the interpret Python package) that incorporates state-of-the-art machine learning interpretability techniques under one roof, with a unified API and a built-in visualization platform. InterpretML helps you understand your model's global behavior or understand the reasons behind individual predictions. The package exposes two types of interpretability:\n",
    "\n",
    "- **Blackbox explainability**, which consists of techniques for explaining existing machine learning models (ex: Partial Dependence, LIME) \n",
    "- **Glassbox interpretability**, which are machine learning models designed for interpretability (ex: linear models, rule lists, generalized additive models). InterpretML also includes the first implementation of the Explainable Boosting Machine, a powerful, interpretable, glassbox model that can be as accurate as many blackbox models.\n",
    "\n",
    "We illustrate each of these two type of interpretability using seperate use cases below."
   ]
  },
  {
   "cell_type": "markdown",
   "id": "fa121011-e228-4f9f-84e3-66fe40873add",
   "metadata": {},
   "source": [
    "### Explaining Blackbox Classifiers"
   ]
  },
  {
   "cell_type": "markdown",
   "id": "c47de5fb-ff59-4276-8ba9-30b8034d522e",
   "metadata": {},
   "source": [
    "In this section of the tutorial, We show how blackbox model explainability works using a simple binary classification example which consists of predicting income (more or less than 50k) using a Random Forest classifier."
   ]
  },
  {
   "cell_type": "markdown",
   "id": "accb97ef-87ea-47ba-b728-8bfc3006277d",
   "metadata": {},
   "source": [
    "We first load the data and have a first look at it."
   ]
  },
  {
   "cell_type": "code",
   "execution_count": 34,
   "id": "9bbc89a1-95f9-4029-bfca-601fc71afbb0",
   "metadata": {},
   "outputs": [
    {
     "data": {
      "text/html": [
       "<div>\n",
       "<style scoped>\n",
       "    .dataframe tbody tr th:only-of-type {\n",
       "        vertical-align: middle;\n",
       "    }\n",
       "\n",
       "    .dataframe tbody tr th {\n",
       "        vertical-align: top;\n",
       "    }\n",
       "\n",
       "    .dataframe thead th {\n",
       "        text-align: right;\n",
       "    }\n",
       "</style>\n",
       "<table border=\"1\" class=\"dataframe\">\n",
       "  <thead>\n",
       "    <tr style=\"text-align: right;\">\n",
       "      <th></th>\n",
       "      <th>Age</th>\n",
       "      <th>WorkClass</th>\n",
       "      <th>fnlwgt</th>\n",
       "      <th>Education</th>\n",
       "      <th>EducationNum</th>\n",
       "      <th>MaritalStatus</th>\n",
       "      <th>Occupation</th>\n",
       "      <th>Relationship</th>\n",
       "      <th>Race</th>\n",
       "      <th>Gender</th>\n",
       "      <th>CapitalGain</th>\n",
       "      <th>CapitalLoss</th>\n",
       "      <th>HoursPerWeek</th>\n",
       "      <th>NativeCountry</th>\n",
       "      <th>Income</th>\n",
       "    </tr>\n",
       "  </thead>\n",
       "  <tbody>\n",
       "    <tr>\n",
       "      <th>9646</th>\n",
       "      <td>62</td>\n",
       "      <td>Self-emp-not-inc</td>\n",
       "      <td>26911</td>\n",
       "      <td>7th-8th</td>\n",
       "      <td>4</td>\n",
       "      <td>Widowed</td>\n",
       "      <td>Other-service</td>\n",
       "      <td>Not-in-family</td>\n",
       "      <td>White</td>\n",
       "      <td>Female</td>\n",
       "      <td>0</td>\n",
       "      <td>0</td>\n",
       "      <td>66</td>\n",
       "      <td>United-States</td>\n",
       "      <td>&lt;=50K</td>\n",
       "    </tr>\n",
       "    <tr>\n",
       "      <th>709</th>\n",
       "      <td>18</td>\n",
       "      <td>Private</td>\n",
       "      <td>208103</td>\n",
       "      <td>11th</td>\n",
       "      <td>7</td>\n",
       "      <td>Never-married</td>\n",
       "      <td>Other-service</td>\n",
       "      <td>Other-relative</td>\n",
       "      <td>White</td>\n",
       "      <td>Male</td>\n",
       "      <td>0</td>\n",
       "      <td>0</td>\n",
       "      <td>25</td>\n",
       "      <td>United-States</td>\n",
       "      <td>&lt;=50K</td>\n",
       "    </tr>\n",
       "    <tr>\n",
       "      <th>7385</th>\n",
       "      <td>25</td>\n",
       "      <td>Private</td>\n",
       "      <td>102476</td>\n",
       "      <td>Bachelors</td>\n",
       "      <td>13</td>\n",
       "      <td>Never-married</td>\n",
       "      <td>Farming-fishing</td>\n",
       "      <td>Own-child</td>\n",
       "      <td>White</td>\n",
       "      <td>Male</td>\n",
       "      <td>27828</td>\n",
       "      <td>0</td>\n",
       "      <td>50</td>\n",
       "      <td>United-States</td>\n",
       "      <td>&gt;50K</td>\n",
       "    </tr>\n",
       "    <tr>\n",
       "      <th>16671</th>\n",
       "      <td>33</td>\n",
       "      <td>Private</td>\n",
       "      <td>511517</td>\n",
       "      <td>HS-grad</td>\n",
       "      <td>9</td>\n",
       "      <td>Married-civ-spouse</td>\n",
       "      <td>Prof-specialty</td>\n",
       "      <td>Husband</td>\n",
       "      <td>White</td>\n",
       "      <td>Male</td>\n",
       "      <td>0</td>\n",
       "      <td>0</td>\n",
       "      <td>40</td>\n",
       "      <td>United-States</td>\n",
       "      <td>&lt;=50K</td>\n",
       "    </tr>\n",
       "    <tr>\n",
       "      <th>21932</th>\n",
       "      <td>36</td>\n",
       "      <td>Private</td>\n",
       "      <td>292570</td>\n",
       "      <td>11th</td>\n",
       "      <td>7</td>\n",
       "      <td>Never-married</td>\n",
       "      <td>Machine-op-inspct</td>\n",
       "      <td>Unmarried</td>\n",
       "      <td>White</td>\n",
       "      <td>Female</td>\n",
       "      <td>0</td>\n",
       "      <td>0</td>\n",
       "      <td>40</td>\n",
       "      <td>United-States</td>\n",
       "      <td>&lt;=50K</td>\n",
       "    </tr>\n",
       "  </tbody>\n",
       "</table>\n",
       "</div>"
      ],
      "text/plain": [
       "       Age          WorkClass  fnlwgt   Education  EducationNum  \\\n",
       "9646    62   Self-emp-not-inc   26911     7th-8th             4   \n",
       "709     18            Private  208103        11th             7   \n",
       "7385    25            Private  102476   Bachelors            13   \n",
       "16671   33            Private  511517     HS-grad             9   \n",
       "21932   36            Private  292570        11th             7   \n",
       "\n",
       "             MaritalStatus          Occupation     Relationship    Race  \\\n",
       "9646               Widowed       Other-service    Not-in-family   White   \n",
       "709          Never-married       Other-service   Other-relative   White   \n",
       "7385         Never-married     Farming-fishing        Own-child   White   \n",
       "16671   Married-civ-spouse      Prof-specialty          Husband   White   \n",
       "21932        Never-married   Machine-op-inspct        Unmarried   White   \n",
       "\n",
       "        Gender  CapitalGain  CapitalLoss  HoursPerWeek   NativeCountry  Income  \n",
       "9646    Female            0            0            66   United-States   <=50K  \n",
       "709       Male            0            0            25   United-States   <=50K  \n",
       "7385      Male        27828            0            50   United-States    >50K  \n",
       "16671     Male            0            0            40   United-States   <=50K  \n",
       "21932   Female            0            0            40   United-States   <=50K  "
      ]
     },
     "execution_count": 34,
     "metadata": {},
     "output_type": "execute_result"
    }
   ],
   "source": [
    "# Useful imports and data loading \n",
    "from sklearn.datasets import load_boston\n",
    "from sklearn.model_selection import train_test_split\n",
    "\n",
    "df = pd.read_csv(\n",
    "    \"https://archive.ics.uci.edu/ml/machine-learning-databases/adult/adult.data\",\n",
    "    header=None)\n",
    "df.columns = [\n",
    "    \"Age\", \"WorkClass\", \"fnlwgt\", \"Education\", \"EducationNum\",\n",
    "    \"MaritalStatus\", \"Occupation\", \"Relationship\", \"Race\", \"Gender\",\n",
    "    \"CapitalGain\", \"CapitalLoss\", \"HoursPerWeek\", \"NativeCountry\", \"Income\"\n",
    "]\n",
    "# Use this line to work on a very small fraction of the dataset\n",
    "df = df.sample(frac=0.01, random_state=1)\n",
    "train_cols = df.columns[0:-1]\n",
    "label = df.columns[-1]\n",
    "X = df[train_cols]\n",
    "y = df[label].apply(lambda x: 0 if x == \" <=50K\" else 1) #Turning response into 0 and 1\n",
    "\n",
    "# We have to transform categorical variables to use sklearn models\n",
    "X_enc = pd.get_dummies(X, prefix_sep='.')\n",
    "feature_names = list(X_enc.columns)\n",
    "\n",
    "seed = 1  \n",
    "X_train, X_test, y_train, y_test = train_test_split(X_enc, y, test_size=0.20, random_state=seed)\n",
    "df.head()"
   ]
  },
  {
   "cell_type": "markdown",
   "id": "fff903e5-2d34-46da-8525-d99841751a70",
   "metadata": {},
   "source": [
    "We now train a blackbox RF classifier after some dimensionality reduction with PCA."
   ]
  },
  {
   "cell_type": "code",
   "execution_count": 35,
   "id": "f0fbc2d3-97d5-47d3-9bdc-046b8fd4d298",
   "metadata": {},
   "outputs": [
    {
     "data": {
      "text/plain": [
       "Pipeline(steps=[('pca', PCA()), ('rf', RandomForestClassifier(n_jobs=-1))])"
      ]
     },
     "execution_count": 35,
     "metadata": {},
     "output_type": "execute_result"
    }
   ],
   "source": [
    "from sklearn.ensemble import RandomForestClassifier\n",
    "from sklearn.decomposition import PCA\n",
    "from sklearn.pipeline import Pipeline\n",
    "\n",
    "#Blackbox system can include preprocessing, not just a classifier!\n",
    "pca = PCA()\n",
    "rf = RandomForestClassifier(n_estimators=100, n_jobs=-1)\n",
    "\n",
    "blackbox_model = Pipeline([('pca', pca), ('rf', rf)])\n",
    "blackbox_model.fit(X_train, y_train)"
   ]
  },
  {
   "cell_type": "markdown",
   "id": "a48d31c6-26bf-4cf4-96ea-bdf6d7ed1d25",
   "metadata": {},
   "source": [
    "Now we use all InterpretML blackbox explainability techniques (see in-code comments for details) and we compare them all in a unified dashboard."
   ]
  },
  {
   "cell_type": "code",
   "execution_count": null,
   "id": "a5e25ebe-272c-4966-8795-619a5b703359",
   "metadata": {},
   "outputs": [],
   "source": [
    "# 1. Blackbox model performance\n",
    "from interpret import show\n",
    "from interpret.perf import ROC\n",
    "\n",
    "blackbox_perf = ROC(blackbox_model.predict_proba).explain_perf(X_test, y_test, name='Blackbox')\n",
    "\n",
    "# 2. Local Explanations\n",
    "from interpret.blackbox import LimeTabular\n",
    "from interpret import show\n",
    "\n",
    "#Blackbox explainers need a predict function, and optionally a dataset\n",
    "lime = LimeTabular(predict_fn=blackbox_model.predict_proba, data=X_train, random_state=1)\n",
    "\n",
    "#Pick the instances to explain, optionally pass in labels if you have them\n",
    "lime_local = lime.explain_local(X_test[:5], y_test[:5], name='LIME')\n",
    "\n",
    "\n",
    "from interpret.blackbox import ShapKernel\n",
    "import numpy as np\n",
    "\n",
    "background_val = np.median(X_train, axis=0).reshape(1, -1)\n",
    "shap = ShapKernel(predict_fn=blackbox_model.predict_proba, data=background_val, feature_names=feature_names)\n",
    "shap_local = shap.explain_local(X_test[:5], y_test[:5], name='SHAP')\n",
    "\n",
    "# 3. Global Explanations\n",
    "from interpret.blackbox import MorrisSensitivity\n",
    "\n",
    "sensitivity = MorrisSensitivity(predict_fn=blackbox_model.predict_proba, data=X_train)\n",
    "sensitivity_global = sensitivity.explain_global(name=\"Global Sensitivity\")\n",
    "\n",
    "from interpret.blackbox import PartialDependence\n",
    "\n",
    "pdp = PartialDependence(predict_fn=blackbox_model.predict_proba, data=X_train)\n",
    "pdp_global = pdp.explain_global(name='Partial Dependence')\n",
    "\n",
    "# Show them all in one dashboard\n",
    "show([blackbox_perf, lime_local, shap_local, sensitivity_global, pdp_global])"
   ]
  },
  {
   "cell_type": "markdown",
   "id": "faaf7c5a-2bd0-4333-a783-be475e6bfe62",
   "metadata": {},
   "source": [
    "### Interpretable glassbox classification using EBM"
   ]
  },
  {
   "cell_type": "markdown",
   "id": "c25dd5a5-54a6-49ef-bcc1-7e08e5e6e59e",
   "metadata": {},
   "source": [
    "In this tutorial, we use the same UCI Adult dataste used in the previous one. The goal is to show tat EBM are interpretable by design and ar better in terms of performance than other gassbox models."
   ]
  },
  {
   "cell_type": "markdown",
   "id": "09482028-5ae5-4ba2-a9df-b5969cd53e07",
   "metadata": {},
   "source": [
    "#### EBM is interpretable by design"
   ]
  },
  {
   "cell_type": "code",
   "execution_count": null,
   "id": "e9bf9fd6-5947-4b44-91e3-4afab9ed0d36",
   "metadata": {},
   "outputs": [],
   "source": [
    "from interpret.glassbox import ExplainableBoostingClassifier, LogisticRegression, ClassificationTree, DecisionListClassifier\n",
    "from interpret.perf import ROC\n",
    "\n",
    "\n",
    "# Use the same data as before\n",
    "seed = 1\n",
    "X_train, X_test, y_train, y_test = train_test_split(X, y, test_size=0.20, random_state=seed)\n",
    "\n",
    "# Train EBM\n",
    "ebm = ExplainableBoostingClassifier(random_state=seed, n_jobs=-1)\n",
    "ebm.fit(X_train, y_train)   #Works on dataframes and numpy arrays\n",
    "\n",
    "# Global explanations\n",
    "ebm_global = ebm.explain_global(name='EBM')\n",
    "ebm_local = ebm.explain_local(X_test[:5], y_test[:5], name='EBM')\n",
    "ebm_perf = ROC(ebm.predict_proba).explain_perf(X_test, y_test, name='EBM')\n",
    "\n",
    "show([ebm_global, ebm_local, ebm_perf])"
   ]
  },
  {
   "cell_type": "markdown",
   "id": "79ee268a-29bc-4953-bdd6-8ed6a0a11126",
   "metadata": {},
   "source": [
    "#### EBM has better performance than other glassbox models"
   ]
  },
  {
   "cell_type": "code",
   "execution_count": null,
   "id": "ce6d9607-5a5f-487b-bfb1-ea6bfbb4f9de",
   "metadata": {},
   "outputs": [],
   "source": [
    "from interpret.glassbox import LogisticRegression, ClassificationTree\n",
    "\n",
    "# We have to transform categorical variables to use Logistic Regression and Decision Tree\n",
    "X_enc = pd.get_dummies(X, prefix_sep='.')\n",
    "feature_names = list(X_enc.columns)\n",
    "X_train_enc, X_test_enc, y_train, y_test = train_test_split(X_enc, y, test_size=0.20, random_state=seed)\n",
    "\n",
    "lr = LogisticRegression(random_state=seed, feature_names=feature_names, penalty='l1', solver='liblinear')\n",
    "lr.fit(X_train_enc, y_train)\n",
    "\n",
    "tree = ClassificationTree()\n",
    "tree.fit(X_train_enc, y_train)\n",
    "\n",
    "lr_perf = ROC(lr.predict_proba).explain_perf(X_test_enc, y_test, name='Logistic Regression')\n",
    "tree_perf = ROC(tree.predict_proba).explain_perf(X_test_enc, y_test, name='Classification Tree')\n",
    "lr_global = lr.explain_global(name='Logistic Regression')\n",
    "tree_global = tree.explain_global(name='Classification Tree')\n",
    "show([lr_global, lr_perf, tree_global, tree_perf, ebm_global, ebm_perf], share_tables=True)"
   ]
  },
  {
   "cell_type": "markdown",
   "id": "02a38f11-d6b6-49af-9d71-01772806383a",
   "metadata": {},
   "source": [
    "Under the performance tab, we can see that EBM achieves much higher performance (in terms of AUC) than other glassbox models."
   ]
  },
  {
   "cell_type": "markdown",
   "id": "f2aef8ab-12f3-40b6-9c5f-6ced97d489af",
   "metadata": {},
   "source": [
    "## Error Analysis"
   ]
  },
  {
   "cell_type": "markdown",
   "id": "ae011847-2646-4ff9-ba05-3eddfb810f53",
   "metadata": {},
   "source": [
    "Error Analysis is an open-source Responsible AI toolkit that enables you to get a deeper understanding of machine learning model errors. When evaluating a machine learning model, a single score like the aggregate accuracy is not sufficient to understand where the model went wrong and may hide important conditions of inaccuracies between cohorts of your data. Error Analysis allows you to: \n",
    "\n",
    "- **Identify** cohorts with higher error rates versus the overall benchmark and visualize how the error rate is distributed.\n",
    "- **Diagnose** the root causes behind these errors."
   ]
  },
  {
   "cell_type": "markdown",
   "id": "b47ee2be-0a5c-4314-92c3-bef610ddf8ad",
   "metadata": {},
   "source": [
    "This notebook is an adapted more concise version of the [erroranalysis-dashboard-multiclass.ipynb](https://github.com/microsoft/responsible-ai-widgets/blob/main/notebooks/erroranalysis-dashboard-multiclass.ipynb) noteook provided as part of the [open-source](https://github.com/microsoft/responsible-ai-widgets/blob/main/notebooks/erroranalysis-dashboard-multiclass.ipynb) Responsible-AI-Widgets package. \n",
    "It demonstrates how to use the Responsible AI Widget's Error Analysis dashboard to understand a model trained on the multiclass wine dataset. \n",
    "\n",
    "The goal is to classify types of wine with scikit-learn and explore model errors and explanations by following three steps:\n",
    "\n",
    "1. Train an SVM classification model using Scikit-learn\n",
    "2. Load simple ErrorAnalysis view without explanations\n",
    "3. Visualize model errors and global and local explanations with the Error Analysis visualization dashboard after running Interpret-Community's 'explain_model' globally and locally to generate model explanations."
   ]
  },
  {
   "cell_type": "markdown",
   "id": "a24dc609-3bde-4409-b143-4e56ffaf416d",
   "metadata": {},
   "source": [
    "### Train an SVM classification model using Scikit-learn"
   ]
  },
  {
   "cell_type": "markdown",
   "id": "0c6d63f0-37fa-43fa-9c24-1bb6c2f2763d",
   "metadata": {},
   "source": [
    "**Step 1:** Import required packages and load the wine data from scikit-learn."
   ]
  },
  {
   "cell_type": "code",
   "execution_count": 39,
   "id": "e5dafc9c-53dd-45a7-9ce0-022e2033e94d",
   "metadata": {},
   "outputs": [],
   "source": [
    "from sklearn.datasets import load_wine\n",
    "from sklearn import svm\n",
    "\n",
    "# Imports for SHAP MimicExplainer with LightGBM surrogate model\n",
    "from interpret.ext.blackbox import MimicExplainer\n",
    "from interpret.ext.glassbox import LGBMExplainableModel\n",
    "\n",
    "# Loading wine data\n",
    "wine = load_wine()\n",
    "X = wine['data']\n",
    "y = wine['target']\n",
    "classes = wine['target_names']\n",
    "feature_names = wine['feature_names']"
   ]
  },
  {
   "cell_type": "markdown",
   "id": "90b14f14-e1c4-43b8-ac60-0a6372d81809",
   "metadata": {},
   "source": [
    "**Step 2:** Training SVM classification model"
   ]
  },
  {
   "cell_type": "code",
   "execution_count": 40,
   "id": "8027bf89-1c44-4d8d-812b-6705d277820d",
   "metadata": {},
   "outputs": [
    {
     "name": "stdout",
     "output_type": "stream",
     "text": [
      "number of errors on test dataset: 25\n"
     ]
    }
   ],
   "source": [
    "# Split data into train and test\n",
    "from sklearn.model_selection import train_test_split\n",
    "X_train, X_test, y_train, y_test = train_test_split(X, y, test_size=0.5, random_state=0)\n",
    "\n",
    "# Training the SVM model\n",
    "from sklearn.linear_model import LogisticRegression\n",
    "clf = svm.SVC(gamma=0.001, C=100., probability=True)\n",
    "model = clf.fit(X_train, y_train)\n",
    "\n",
    "print(\"number of errors on test dataset: \" + str(sum(model.predict(X_test) != y_test)))"
   ]
  },
  {
   "cell_type": "markdown",
   "id": "ef216050-4b4e-46cb-a81d-0798be9134da",
   "metadata": {},
   "source": [
    "We notice that the model makes a fair number of errors, let's explore where these errors come from using the Error Analysis dashboard."
   ]
  },
  {
   "cell_type": "markdown",
   "id": "b5a546ed-4c8d-46df-b7fe-adb914ff4b63",
   "metadata": {},
   "source": [
    "### Load simple ErrorAnalysis view without explanations"
   ]
  },
  {
   "cell_type": "markdown",
   "id": "aadf3fef-1b25-451e-b1d6-362793fe904f",
   "metadata": {},
   "source": [
    "**Step 3:** Identification of errors using decision trees and error heatmaps from the ErrorAnalysis dashboard (without explanations – see next step)"
   ]
  },
  {
   "cell_type": "code",
   "execution_count": null,
   "id": "4fe3a69f-a99f-47cf-b797-efd99f012052",
   "metadata": {},
   "outputs": [],
   "source": [
    "from raiwidgets import ErrorAnalysisDashboard\n",
    "predictions = model.predict(X_test)\n",
    "ErrorAnalysisDashboard(dataset=X_test, true_y=y_test, features=feature_names, pred_y=predictions)"
   ]
  },
  {
   "cell_type": "markdown",
   "id": "db02b28c-f743-4213-a423-f8fee252ad47",
   "metadata": {},
   "source": [
    "From the Decision Tree tab of the dashboard, we clearly see from this decision tree that the biggest error rate (19 errors out of 36 predictions – more than half) occurs when the feature malic_acid is higher than 2.26. This is clearly a problem and we need to investigate this cohort more punctually, which we will do in the next step."
   ]
  },
  {
   "cell_type": "markdown",
   "id": "cec48768-9a51-460f-9c1e-5911965c6f78",
   "metadata": {},
   "source": [
    "### Visualize model errors and global and local explanations with the Error Analysis visualization dashboard"
   ]
  },
  {
   "cell_type": "markdown",
   "id": "96b74f55-0b9e-460f-9549-3de3eb7a31fd",
   "metadata": {},
   "source": [
    "**Step 4:** Running the Interpret-Community's 'explain_global' to generate model explanations."
   ]
  },
  {
   "cell_type": "code",
   "execution_count": 42,
   "id": "36f8c242-21c5-4ba8-b590-c68f4382d410",
   "metadata": {},
   "outputs": [],
   "source": [
    "from interpret_community.common.constants import ModelTask\n",
    "# Train the LightGBM surrogate model using MimicExplaner\n",
    "model_task = ModelTask.Classification\n",
    "explainer = MimicExplainer(model, X_train, LGBMExplainableModel,\n",
    "                           augment_data=True, max_num_of_augmentations=10,\n",
    "                           features=feature_names, classes=classes, model_task=model_task)\n",
    "\n",
    "# Generate global explanations\n",
    "global_explanation = explainer.explain_global(X_test)"
   ]
  },
  {
   "cell_type": "markdown",
   "id": "7aa7b360-06a6-4650-820f-ca1754797caa",
   "metadata": {},
   "source": [
    "**Step 5:** Analyze model errors and explanations using Error Analysis dashboard by feeding model explanations generated in step 4."
   ]
  },
  {
   "cell_type": "code",
   "execution_count": null,
   "id": "7b1d533e-63d1-4fcf-897a-33b49b0e9f99",
   "metadata": {},
   "outputs": [],
   "source": [
    "from raiwidgets import ErrorAnalysisDashboard\n",
    "ErrorAnalysisDashboard(global_explanation, model, dataset=X_test, true_y=y_test)"
   ]
  },
  {
   "cell_type": "markdown",
   "id": "9b0e5c61",
   "metadata": {},
   "source": [
    "This concludes this series of tutorials about tools to (better) understand the behavior of ML algorithms."
   ]
  },
  {
   "cell_type": "markdown",
   "id": "f32df269",
   "metadata": {},
   "source": [
    "## Responsible AI dashboard\n",
    "Until now, we have used the Error Analysis and Fair Learning dashboards independently. However there is now another way to do this. Responsible AI dashboard is a single pane of glass designed to help practitioners accelerate their engineering processes by bringing together existing tools for responsible AI. \n",
    "These tools can help users evaluate and improve their machine learning models in terms of **interpretability**, **fairness**, **accuracy**, **causality** and **counterfactuality**. \n",
    "The dashboard is available on the GitHub repository [responsible-ai-toolbox](https://github.com/microsoft/responsible-ai-toolbox) and in a form of a python library named [raiwidgets](https://pypi.org/project/raiwidgets/). \n",
    "\n",
    "Below, we highlight the steps to create a Responsible AI dashboard."
   ]
  },
  {
   "attachments": {},
   "cell_type": "markdown",
   "id": "4e94af31",
   "metadata": {},
   "source": [
    "**Step 1:** As in the first part, users will need to load a dataset, split it into train and test datasets, and train a model on the training dataset."
   ]
  },
  {
   "cell_type": "code",
   "execution_count": 44,
   "id": "e178bafc",
   "metadata": {},
   "outputs": [
    {
     "data": {
      "text/html": [
       "<div>\n",
       "<style scoped>\n",
       "    .dataframe tbody tr th:only-of-type {\n",
       "        vertical-align: middle;\n",
       "    }\n",
       "\n",
       "    .dataframe tbody tr th {\n",
       "        vertical-align: top;\n",
       "    }\n",
       "\n",
       "    .dataframe thead th {\n",
       "        text-align: right;\n",
       "    }\n",
       "</style>\n",
       "<table border=\"1\" class=\"dataframe\">\n",
       "  <thead>\n",
       "    <tr style=\"text-align: right;\">\n",
       "      <th></th>\n",
       "      <th>LIMIT_BAL</th>\n",
       "      <th>SEX</th>\n",
       "      <th>EDUCATION</th>\n",
       "      <th>MARRIAGE</th>\n",
       "      <th>AGE</th>\n",
       "      <th>PAY_1</th>\n",
       "      <th>PAY_2</th>\n",
       "      <th>PAY_3</th>\n",
       "      <th>PAY_4</th>\n",
       "      <th>PAY_5</th>\n",
       "      <th>...</th>\n",
       "      <th>BILL_AMT4</th>\n",
       "      <th>BILL_AMT5</th>\n",
       "      <th>BILL_AMT6</th>\n",
       "      <th>PAY_AMT1</th>\n",
       "      <th>PAY_AMT2</th>\n",
       "      <th>PAY_AMT3</th>\n",
       "      <th>PAY_AMT4</th>\n",
       "      <th>PAY_AMT5</th>\n",
       "      <th>PAY_AMT6</th>\n",
       "      <th>default payment next month</th>\n",
       "    </tr>\n",
       "  </thead>\n",
       "  <tbody>\n",
       "    <tr>\n",
       "      <th>0</th>\n",
       "      <td>20000</td>\n",
       "      <td>2</td>\n",
       "      <td>2</td>\n",
       "      <td>1</td>\n",
       "      <td>24</td>\n",
       "      <td>2</td>\n",
       "      <td>2</td>\n",
       "      <td>-1</td>\n",
       "      <td>-1</td>\n",
       "      <td>-2</td>\n",
       "      <td>...</td>\n",
       "      <td>0</td>\n",
       "      <td>0</td>\n",
       "      <td>0</td>\n",
       "      <td>0</td>\n",
       "      <td>689</td>\n",
       "      <td>0</td>\n",
       "      <td>0</td>\n",
       "      <td>0</td>\n",
       "      <td>0</td>\n",
       "      <td>1</td>\n",
       "    </tr>\n",
       "    <tr>\n",
       "      <th>1</th>\n",
       "      <td>120000</td>\n",
       "      <td>2</td>\n",
       "      <td>2</td>\n",
       "      <td>2</td>\n",
       "      <td>26</td>\n",
       "      <td>-1</td>\n",
       "      <td>2</td>\n",
       "      <td>0</td>\n",
       "      <td>0</td>\n",
       "      <td>0</td>\n",
       "      <td>...</td>\n",
       "      <td>3272</td>\n",
       "      <td>3455</td>\n",
       "      <td>3261</td>\n",
       "      <td>0</td>\n",
       "      <td>1000</td>\n",
       "      <td>1000</td>\n",
       "      <td>1000</td>\n",
       "      <td>0</td>\n",
       "      <td>2000</td>\n",
       "      <td>1</td>\n",
       "    </tr>\n",
       "    <tr>\n",
       "      <th>2</th>\n",
       "      <td>90000</td>\n",
       "      <td>2</td>\n",
       "      <td>2</td>\n",
       "      <td>2</td>\n",
       "      <td>34</td>\n",
       "      <td>0</td>\n",
       "      <td>0</td>\n",
       "      <td>0</td>\n",
       "      <td>0</td>\n",
       "      <td>0</td>\n",
       "      <td>...</td>\n",
       "      <td>14331</td>\n",
       "      <td>14948</td>\n",
       "      <td>15549</td>\n",
       "      <td>1518</td>\n",
       "      <td>1500</td>\n",
       "      <td>1000</td>\n",
       "      <td>1000</td>\n",
       "      <td>1000</td>\n",
       "      <td>5000</td>\n",
       "      <td>0</td>\n",
       "    </tr>\n",
       "    <tr>\n",
       "      <th>3</th>\n",
       "      <td>50000</td>\n",
       "      <td>2</td>\n",
       "      <td>2</td>\n",
       "      <td>1</td>\n",
       "      <td>37</td>\n",
       "      <td>0</td>\n",
       "      <td>0</td>\n",
       "      <td>0</td>\n",
       "      <td>0</td>\n",
       "      <td>0</td>\n",
       "      <td>...</td>\n",
       "      <td>28314</td>\n",
       "      <td>28959</td>\n",
       "      <td>29547</td>\n",
       "      <td>2000</td>\n",
       "      <td>2019</td>\n",
       "      <td>1200</td>\n",
       "      <td>1100</td>\n",
       "      <td>1069</td>\n",
       "      <td>1000</td>\n",
       "      <td>0</td>\n",
       "    </tr>\n",
       "    <tr>\n",
       "      <th>4</th>\n",
       "      <td>50000</td>\n",
       "      <td>1</td>\n",
       "      <td>2</td>\n",
       "      <td>1</td>\n",
       "      <td>57</td>\n",
       "      <td>-1</td>\n",
       "      <td>0</td>\n",
       "      <td>-1</td>\n",
       "      <td>0</td>\n",
       "      <td>0</td>\n",
       "      <td>...</td>\n",
       "      <td>20940</td>\n",
       "      <td>19146</td>\n",
       "      <td>19131</td>\n",
       "      <td>2000</td>\n",
       "      <td>36681</td>\n",
       "      <td>10000</td>\n",
       "      <td>9000</td>\n",
       "      <td>689</td>\n",
       "      <td>679</td>\n",
       "      <td>0</td>\n",
       "    </tr>\n",
       "  </tbody>\n",
       "</table>\n",
       "<p>5 rows × 24 columns</p>\n",
       "</div>"
      ],
      "text/plain": [
       "   LIMIT_BAL  SEX  EDUCATION  MARRIAGE  AGE  PAY_1  PAY_2  PAY_3  PAY_4  \\\n",
       "0      20000    2          2         1   24      2      2     -1     -1   \n",
       "1     120000    2          2         2   26     -1      2      0      0   \n",
       "2      90000    2          2         2   34      0      0      0      0   \n",
       "3      50000    2          2         1   37      0      0      0      0   \n",
       "4      50000    1          2         1   57     -1      0     -1      0   \n",
       "\n",
       "   PAY_5  ...  BILL_AMT4  BILL_AMT5  BILL_AMT6  PAY_AMT1  PAY_AMT2  PAY_AMT3  \\\n",
       "0     -2  ...          0          0          0         0       689         0   \n",
       "1      0  ...       3272       3455       3261         0      1000      1000   \n",
       "2      0  ...      14331      14948      15549      1518      1500      1000   \n",
       "3      0  ...      28314      28959      29547      2000      2019      1200   \n",
       "4      0  ...      20940      19146      19131      2000     36681     10000   \n",
       "\n",
       "   PAY_AMT4  PAY_AMT5  PAY_AMT6  default payment next month  \n",
       "0         0         0         0                           1  \n",
       "1      1000         0      2000                           1  \n",
       "2      1000      1000      5000                           0  \n",
       "3      1100      1069      1000                           0  \n",
       "4      9000       689       679                           0  \n",
       "\n",
       "[5 rows x 24 columns]"
      ]
     },
     "execution_count": 44,
     "metadata": {},
     "output_type": "execute_result"
    }
   ],
   "source": [
    "# Load the data\n",
    "data_url = \"http://archive.ics.uci.edu/ml/machine-learning-databases/00350/default%20of%20credit%20card%20clients.xls\"\n",
    "dataset = pd.read_excel(io=data_url, header=1).drop(columns=['ID']).rename(columns={'PAY_0':'PAY_1'})\n",
    "dataset.head()"
   ]
  },
  {
   "cell_type": "code",
   "execution_count": 45,
   "id": "847d6a7a",
   "metadata": {},
   "outputs": [],
   "source": [
    "# Extract the sensitive feature\n",
    "A = dataset[\"SEX\"]\n",
    "A_str = A.map({ 2:\"female\", 1:\"male\"})\n",
    "# Extract the target\n",
    "Y = dataset[\"default payment next month\"]\n",
    "categorical_features = ['EDUCATION', 'MARRIAGE','PAY_1', 'PAY_2', 'PAY_3', 'PAY_4', 'PAY_5', 'PAY_6']\n",
    "sensitive_features = dataset[['SEX']]\n",
    "for col in categorical_features:\n",
    "    dataset[col] = dataset[col].astype('category')"
   ]
  },
  {
   "cell_type": "code",
   "execution_count": 46,
   "id": "c31df5ec",
   "metadata": {},
   "outputs": [],
   "source": [
    "dist_scale = 0.5\n",
    "np.random.seed(12345)\n",
    "# Make 'LIMIT_BAL' informative of the target\n",
    "dataset['LIMIT_BAL'] = Y + np.random.normal(scale=dist_scale, size=dataset.shape[0])\n",
    "# But then make it uninformative for the male clients\n",
    "dataset.loc[A==1, 'LIMIT_BAL'] = np.random.normal(scale=dist_scale, size=dataset[A==1].shape[0])"
   ]
  },
  {
   "cell_type": "code",
   "execution_count": 47,
   "id": "244acc77",
   "metadata": {},
   "outputs": [],
   "source": [
    "# Train-test split\n",
    "df_train, df_test, Y_train, Y_test, A_train, A_test, A_str_train, A_str_test, sensitive_features_train, sensitive_features_test = train_test_split(\n",
    "    dataset.drop(columns=['SEX', 'default payment next month']), \n",
    "    Y, \n",
    "    A, \n",
    "    A_str,\n",
    "    sensitive_features,\n",
    "    test_size = 0.15, \n",
    "    random_state=12345,\n",
    "    stratify=Y)"
   ]
  },
  {
   "cell_type": "code",
   "execution_count": 48,
   "id": "d97ed15b",
   "metadata": {},
   "outputs": [
    {
     "data": {
      "text/plain": [
       "LGBMClassifier(learning_rate=0.03, max_depth=3, metric='auc', num_leaves=10,\n",
       "               objective='binary')"
      ]
     },
     "execution_count": 48,
     "metadata": {},
     "output_type": "execute_result"
    }
   ],
   "source": [
    "lgb_params = {\n",
    "    'objective' : 'binary',\n",
    "    'metric' : 'auc',\n",
    "    'learning_rate': 0.03,\n",
    "    'num_leaves' : 10,\n",
    "    'max_depth' : 3\n",
    "}\n",
    "model = lgb.LGBMClassifier(**lgb_params)\n",
    "model.fit(df_train, Y_train)"
   ]
  },
  {
   "cell_type": "markdown",
   "id": "aa89eedc",
   "metadata": {},
   "source": [
    "**Step 2:** Then, it is necessary to initialize a RAIInsights object upon which the different components can be loaded. task_type holds the string 'regression' or 'classification' depending on the developer's purpose.\n",
    "\n",
    "Users can also specify categorical features via the categorical_features parameter.\n",
    "\n",
    "If needed, it’s possible to define an sklearn pipeline which you’ll be able to pass to the RAIInsights constructor.\n"
   ]
  },
  {
   "cell_type": "code",
   "execution_count": 55,
   "id": "9afbaae1",
   "metadata": {},
   "outputs": [],
   "source": [
    "from raiwidgets import ResponsibleAIDashboard\n",
    "from responsibleai import RAIInsights"
   ]
  },
  {
   "cell_type": "code",
   "execution_count": 57,
   "id": "b6805a35",
   "metadata": {},
   "outputs": [],
   "source": [
    "target_feature = \"default payment next month\"\n",
    "\n",
    "train_data = df_train.copy()\n",
    "train_data[target_feature] = Y_train\n",
    "\n",
    "test_data = df_test.copy()\n",
    "test_data[target_feature] = Y_test\n",
    "\n",
    "rai_insights = RAIInsights(model, train_data, test_data, target_feature, 'classification',\n",
    "                             categorical_features=df_train.columns.values.tolist(), \n",
    "                             classes=[1, 0])"
   ]
  },
  {
   "cell_type": "markdown",
   "id": "639619fc",
   "metadata": {},
   "source": [
    "**Step 3:** We can now determine which analyses we want to conduct and run them. Let's say an *Interpretability analysis* and an *Error analysis*. "
   ]
  },
  {
   "cell_type": "code",
   "execution_count": 58,
   "id": "1173f615",
   "metadata": {},
   "outputs": [],
   "source": [
    "# Interpretability\n",
    "rai_insights.explainer.add()\n",
    "# Error Analysis\n",
    "rai_insights.error_analysis.add()"
   ]
  },
  {
   "cell_type": "markdown",
   "id": "f9922e56",
   "metadata": {},
   "source": [
    "**Step 4:** Finally, we can compute and display the insights"
   ]
  },
  {
   "cell_type": "code",
   "execution_count": null,
   "id": "e567b6e7",
   "metadata": {},
   "outputs": [],
   "source": [
    "rai_insights.compute()"
   ]
  },
  {
   "cell_type": "code",
   "execution_count": null,
   "id": "e04f0358",
   "metadata": {},
   "outputs": [],
   "source": [
    "ResponsibleAIDashboard(rai_insights)"
   ]
  }
 ],
 "metadata": {
  "interpreter": {
   "hash": "96df165d4e490eee9dfaf336b0de0736c8ea03c524933bdf947252edad1fddbf"
  },
  "kernelspec": {
   "display_name": "Python 3.8.8 ('venv': venv)",
   "language": "python",
   "name": "python3"
  },
  "language_info": {
   "codemirror_mode": {
    "name": "ipython",
    "version": 3
   },
   "file_extension": ".py",
   "mimetype": "text/x-python",
   "name": "python",
   "nbconvert_exporter": "python",
   "pygments_lexer": "ipython3",
   "version": "3.9.13"
  },
  "metadata": {
   "interpreter": {
    "hash": "4ea32316e91a6eebb7aba2d618bfa079828f2c2bf2d66bc4c6a630be40cdf7c6"
   }
  }
 },
 "nbformat": 4,
 "nbformat_minor": 5
}
