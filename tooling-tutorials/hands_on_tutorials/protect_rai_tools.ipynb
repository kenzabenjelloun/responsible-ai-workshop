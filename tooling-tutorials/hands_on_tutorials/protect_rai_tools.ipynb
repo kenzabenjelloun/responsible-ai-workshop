{
 "cells": [
  {
   "cell_type": "markdown",
   "id": "1659639f-a9e2-438c-b297-fed922ab1bd0",
   "metadata": {},
   "source": [
    "# Tools to understand the behavior of ML algorithms - Hands-on tutorials"
   ]
  },
  {
   "cell_type": "markdown",
   "id": "067eb9fc-4199-4ac3-af63-20bf2c75aa17",
   "metadata": {},
   "source": [
    "In this notebook, we provide step-by-step guides for geting started using 2 Microsoft Responsible AI techniques for protecting AI systems data:\n",
    "\n",
    "- **Data Anonymization** with [Presidio](https://github.com/Microsoft/presidio)\n",
    "- **Differencial Privacy** with the [SmartNoise system](https://github.com/opendp/smartnoise-core)\n",
    "\n",
    "These are inspired by the example notebooks provided in each repo, and are meant to get aggregate all these tools into a single document to get you started as quickly as possible."
   ]
  },
  {
   "cell_type": "markdown",
   "id": "00defb99-5be6-48da-826d-92aa360603cd",
   "metadata": {},
   "source": [
    "## Presidio"
   ]
  },
  {
   "cell_type": "markdown",
   "id": "f2225023-965d-48f4-907e-7bb4bd7d4f9e",
   "metadata": {},
   "source": [
    "Presidio is a data protection and anonymization SDK for text and images providing fast identification and anonymization of private entities in text such as credit card numbers, names, locations, social security numbers, bitcoin wallets, US phone numbers, financial data and more.\n",
    "\n",
    "In this tutorial, we introduce two of Presidio's modules, namely \n",
    "1. **Presidio analyzer** for custom or predefined PII detection in text, leveraging Named Entity Recognition, regular expressions, rule-based logic, and checksum with relevant context in multiple languages, and \n",
    "2. **Presidio anonymizer** which is the module allowing anonymization of the detected PII entities using different operators. "
   ]
  },
  {
   "cell_type": "markdown",
   "id": "ffa36abd-410a-4056-86ae-01cfeca4bb86",
   "metadata": {},
   "source": [
    "To get there, we follow 4 simple steps to show how Presidio works.\n",
    "\n",
    "**Step 1:** Installing the presidio_analyzer and presidio_anonymizer libraries using pip along with the spaCy English language model needed by the analyzer."
   ]
  },
  {
   "cell_type": "code",
   "execution_count": 1,
   "id": "bf267da1-4fdb-4725-9f87-1a35c7486bdf",
   "metadata": {},
   "outputs": [
    {
     "name": "stdout",
     "output_type": "stream",
     "text": [
      "Requirement already satisfied: presidio_analyzer in c:\\users\\t-relotmani\\ooc\\responsible-ai-workshop\\venv\\lib\\site-packages (2.2.27)\n",
      "Requirement already satisfied: pyyaml in c:\\users\\t-relotmani\\ooc\\responsible-ai-workshop\\venv\\lib\\site-packages (from presidio_analyzer) (5.4.1)\n",
      "Requirement already satisfied: spacy>=3.2.0 in c:\\users\\t-relotmani\\ooc\\responsible-ai-workshop\\venv\\lib\\site-packages (from presidio_analyzer) (3.3.0)\n",
      "Requirement already satisfied: tldextract in c:\\users\\t-relotmani\\ooc\\responsible-ai-workshop\\venv\\lib\\site-packages (from presidio_analyzer) (3.3.0)\n",
      "Requirement already satisfied: regex in c:\\users\\t-relotmani\\ooc\\responsible-ai-workshop\\venv\\lib\\site-packages (from presidio_analyzer) (2021.9.30)\n",
      "Requirement already satisfied: phonenumbers>=8.12 in c:\\users\\t-relotmani\\ooc\\responsible-ai-workshop\\venv\\lib\\site-packages (from presidio_analyzer) (8.12.47)\n",
      "Requirement already satisfied: preshed<3.1.0,>=3.0.2 in c:\\users\\t-relotmani\\ooc\\responsible-ai-workshop\\venv\\lib\\site-packages (from spacy>=3.2.0->presidio_analyzer) (3.0.6)\n",
      "Requirement already satisfied: jinja2 in c:\\users\\t-relotmani\\ooc\\responsible-ai-workshop\\venv\\lib\\site-packages (from spacy>=3.2.0->presidio_analyzer) (2.11.3)\n",
      "Requirement already satisfied: spacy-legacy<3.1.0,>=3.0.9 in c:\\users\\t-relotmani\\ooc\\responsible-ai-workshop\\venv\\lib\\site-packages (from spacy>=3.2.0->presidio_analyzer) (3.0.9)\n",
      "Requirement already satisfied: pathy>=0.3.5 in c:\\users\\t-relotmani\\ooc\\responsible-ai-workshop\\venv\\lib\\site-packages (from spacy>=3.2.0->presidio_analyzer) (0.6.1)\n",
      "Requirement already satisfied: cymem<2.1.0,>=2.0.2 in c:\\users\\t-relotmani\\ooc\\responsible-ai-workshop\\venv\\lib\\site-packages (from spacy>=3.2.0->presidio_analyzer) (2.0.6)\n",
      "Requirement already satisfied: blis<0.8.0,>=0.4.0 in c:\\users\\t-relotmani\\ooc\\responsible-ai-workshop\\venv\\lib\\site-packages (from spacy>=3.2.0->presidio_analyzer) (0.7.7)\n",
      "Requirement already satisfied: srsly<3.0.0,>=2.4.3 in c:\\users\\t-relotmani\\ooc\\responsible-ai-workshop\\venv\\lib\\site-packages (from spacy>=3.2.0->presidio_analyzer) (2.4.3)\n",
      "Requirement already satisfied: packaging>=20.0 in c:\\users\\t-relotmani\\ooc\\responsible-ai-workshop\\venv\\lib\\site-packages (from spacy>=3.2.0->presidio_analyzer) (21.3)\n",
      "Requirement already satisfied: setuptools in c:\\users\\t-relotmani\\ooc\\responsible-ai-workshop\\venv\\lib\\site-packages (from spacy>=3.2.0->presidio_analyzer) (49.2.1)\n",
      "Requirement already satisfied: spacy-loggers<2.0.0,>=1.0.0 in c:\\users\\t-relotmani\\ooc\\responsible-ai-workshop\\venv\\lib\\site-packages (from spacy>=3.2.0->presidio_analyzer) (1.0.2)\n",
      "Requirement already satisfied: requests<3.0.0,>=2.13.0 in c:\\users\\t-relotmani\\ooc\\responsible-ai-workshop\\venv\\lib\\site-packages (from spacy>=3.2.0->presidio_analyzer) (2.25.1)\n",
      "Requirement already satisfied: murmurhash<1.1.0,>=0.28.0 in c:\\users\\t-relotmani\\ooc\\responsible-ai-workshop\\venv\\lib\\site-packages (from spacy>=3.2.0->presidio_analyzer) (1.0.7)\n",
      "Requirement already satisfied: thinc<8.1.0,>=8.0.14 in c:\\users\\t-relotmani\\ooc\\responsible-ai-workshop\\venv\\lib\\site-packages (from spacy>=3.2.0->presidio_analyzer) (8.0.15)\n",
      "Requirement already satisfied: numpy>=1.15.0 in c:\\users\\t-relotmani\\ooc\\responsible-ai-workshop\\venv\\lib\\site-packages (from spacy>=3.2.0->presidio_analyzer) (1.22.3)\n",
      "Requirement already satisfied: wasabi<1.1.0,>=0.9.1 in c:\\users\\t-relotmani\\ooc\\responsible-ai-workshop\\venv\\lib\\site-packages (from spacy>=3.2.0->presidio_analyzer) (0.9.1)\n",
      "Requirement already satisfied: typer<0.5.0,>=0.3.0 in c:\\users\\t-relotmani\\ooc\\responsible-ai-workshop\\venv\\lib\\site-packages (from spacy>=3.2.0->presidio_analyzer) (0.4.1)\n",
      "Requirement already satisfied: pydantic!=1.8,!=1.8.1,<1.9.0,>=1.7.4 in c:\\users\\t-relotmani\\ooc\\responsible-ai-workshop\\venv\\lib\\site-packages (from spacy>=3.2.0->presidio_analyzer) (1.8.2)\n",
      "Requirement already satisfied: langcodes<4.0.0,>=3.2.0 in c:\\users\\t-relotmani\\ooc\\responsible-ai-workshop\\venv\\lib\\site-packages (from spacy>=3.2.0->presidio_analyzer) (3.3.0)\n",
      "Requirement already satisfied: catalogue<2.1.0,>=2.0.6 in c:\\users\\t-relotmani\\ooc\\responsible-ai-workshop\\venv\\lib\\site-packages (from spacy>=3.2.0->presidio_analyzer) (2.0.7)\n"
     ]
    },
    {
     "name": "stderr",
     "output_type": "stream",
     "text": [
      "WARNING: You are using pip version 20.2.3; however, version 22.0.4 is available.\n",
      "You should consider upgrading via the 'c:\\users\\t-relotmani\\ooc\\responsible-ai-workshop\\venv\\scripts\\python.exe -m pip install --upgrade pip' command.\n"
     ]
    },
    {
     "name": "stdout",
     "output_type": "stream",
     "text": [
      "Requirement already satisfied: tqdm<5.0.0,>=4.38.0 in c:\\users\\t-relotmani\\ooc\\responsible-ai-workshop\\venv\\lib\\site-packages (from spacy>=3.2.0->presidio_analyzer) (4.64.0)\n",
      "Requirement already satisfied: idna in c:\\users\\t-relotmani\\ooc\\responsible-ai-workshop\\venv\\lib\\site-packages (from tldextract->presidio_analyzer) (2.10)\n",
      "Requirement already satisfied: requests-file>=1.4 in c:\\users\\t-relotmani\\ooc\\responsible-ai-workshop\\venv\\lib\\site-packages (from tldextract->presidio_analyzer) (1.5.1)\n",
      "Requirement already satisfied: filelock>=3.0.8 in c:\\users\\t-relotmani\\ooc\\responsible-ai-workshop\\venv\\lib\\site-packages (from tldextract->presidio_analyzer) (3.6.0)\n",
      "Requirement already satisfied: MarkupSafe>=0.23 in c:\\users\\t-relotmani\\ooc\\responsible-ai-workshop\\venv\\lib\\site-packages (from jinja2->spacy>=3.2.0->presidio_analyzer) (2.0.1)\n",
      "Requirement already satisfied: smart-open<6.0.0,>=5.0.0 in c:\\users\\t-relotmani\\ooc\\responsible-ai-workshop\\venv\\lib\\site-packages (from pathy>=0.3.5->spacy>=3.2.0->presidio_analyzer) (5.2.1)\n",
      "Requirement already satisfied: pyparsing!=3.0.5,>=2.0.2 in c:\\users\\t-relotmani\\ooc\\responsible-ai-workshop\\venv\\lib\\site-packages (from packaging>=20.0->spacy>=3.2.0->presidio_analyzer) (3.0.8)\n",
      "Requirement already satisfied: certifi>=2017.4.17 in c:\\users\\t-relotmani\\ooc\\responsible-ai-workshop\\venv\\lib\\site-packages (from requests<3.0.0,>=2.13.0->spacy>=3.2.0->presidio_analyzer) (2021.10.8)\n",
      "Requirement already satisfied: urllib3<1.27,>=1.21.1 in c:\\users\\t-relotmani\\ooc\\responsible-ai-workshop\\venv\\lib\\site-packages (from requests<3.0.0,>=2.13.0->spacy>=3.2.0->presidio_analyzer) (1.26.9)\n",
      "Requirement already satisfied: chardet<5,>=3.0.2 in c:\\users\\t-relotmani\\ooc\\responsible-ai-workshop\\venv\\lib\\site-packages (from requests<3.0.0,>=2.13.0->spacy>=3.2.0->presidio_analyzer) (4.0.0)\n",
      "Requirement already satisfied: click<9.0.0,>=7.1.1 in c:\\users\\t-relotmani\\ooc\\responsible-ai-workshop\\venv\\lib\\site-packages (from typer<0.5.0,>=0.3.0->spacy>=3.2.0->presidio_analyzer) (7.1.2)\n",
      "Requirement already satisfied: typing-extensions>=3.7.4.3 in c:\\users\\t-relotmani\\ooc\\responsible-ai-workshop\\venv\\lib\\site-packages (from pydantic!=1.8,!=1.8.1,<1.9.0,>=1.7.4->spacy>=3.2.0->presidio_analyzer) (3.10.0.0)\n",
      "Requirement already satisfied: colorama; platform_system == \"Windows\" in c:\\users\\t-relotmani\\ooc\\responsible-ai-workshop\\venv\\lib\\site-packages (from tqdm<5.0.0,>=4.38.0->spacy>=3.2.0->presidio_analyzer) (0.4.4)\n",
      "Requirement already satisfied: six in c:\\users\\t-relotmani\\ooc\\responsible-ai-workshop\\venv\\lib\\site-packages (from requests-file>=1.4->tldextract->presidio_analyzer) (1.16.0)\n",
      "Requirement already satisfied: presidio_anonymizer in c:\\users\\t-relotmani\\ooc\\responsible-ai-workshop\\venv\\lib\\site-packages (2.2.27)\n",
      "Requirement already satisfied: pycryptodome>=3.10.1 in c:\\users\\t-relotmani\\ooc\\responsible-ai-workshop\\venv\\lib\\site-packages (from presidio_anonymizer) (3.14.1)\n"
     ]
    },
    {
     "name": "stderr",
     "output_type": "stream",
     "text": [
      "WARNING: You are using pip version 20.2.3; however, version 22.0.4 is available.\n",
      "You should consider upgrading via the 'c:\\users\\t-relotmani\\ooc\\responsible-ai-workshop\\venv\\scripts\\python.exe -m pip install --upgrade pip' command.\n",
      "WARNING: You are using pip version 20.2.3; however, version 22.0.4 is available.\n",
      "You should consider upgrading via the 'c:\\Users\\t-relotmani\\OOC\\responsible-ai-workshop\\venv\\Scripts\\python.exe -m pip install --upgrade pip' command.\n"
     ]
    },
    {
     "name": "stdout",
     "output_type": "stream",
     "text": [
      "Requirement already satisfied: en-core-web-lg==3.3.0 from https://github.com/explosion/spacy-models/releases/download/en_core_web_lg-3.3.0/en_core_web_lg-3.3.0-py3-none-any.whl#egg=en_core_web_lg==3.3.0 in c:\\users\\t-relotmani\\ooc\\responsible-ai-workshop\\venv\\lib\\site-packages (3.3.0)\n",
      "Requirement already satisfied: spacy<3.4.0,>=3.3.0.dev0 in c:\\users\\t-relotmani\\ooc\\responsible-ai-workshop\\venv\\lib\\site-packages (from en-core-web-lg==3.3.0) (3.3.0)\n",
      "Requirement already satisfied: catalogue<2.1.0,>=2.0.6 in c:\\users\\t-relotmani\\ooc\\responsible-ai-workshop\\venv\\lib\\site-packages (from spacy<3.4.0,>=3.3.0.dev0->en-core-web-lg==3.3.0) (2.0.7)\n",
      "Requirement already satisfied: pathy>=0.3.5 in c:\\users\\t-relotmani\\ooc\\responsible-ai-workshop\\venv\\lib\\site-packages (from spacy<3.4.0,>=3.3.0.dev0->en-core-web-lg==3.3.0) (0.6.1)\n",
      "Requirement already satisfied: setuptools in c:\\users\\t-relotmani\\ooc\\responsible-ai-workshop\\venv\\lib\\site-packages (from spacy<3.4.0,>=3.3.0.dev0->en-core-web-lg==3.3.0) (49.2.1)\n",
      "Requirement already satisfied: srsly<3.0.0,>=2.4.3 in c:\\users\\t-relotmani\\ooc\\responsible-ai-workshop\\venv\\lib\\site-packages (from spacy<3.4.0,>=3.3.0.dev0->en-core-web-lg==3.3.0) (2.4.3)\n",
      "Requirement already satisfied: preshed<3.1.0,>=3.0.2 in c:\\users\\t-relotmani\\ooc\\responsible-ai-workshop\\venv\\lib\\site-packages (from spacy<3.4.0,>=3.3.0.dev0->en-core-web-lg==3.3.0) (3.0.6)\n",
      "Requirement already satisfied: spacy-loggers<2.0.0,>=1.0.0 in c:\\users\\t-relotmani\\ooc\\responsible-ai-workshop\\venv\\lib\\site-packages (from spacy<3.4.0,>=3.3.0.dev0->en-core-web-lg==3.3.0) (1.0.2)\n",
      "Requirement already satisfied: requests<3.0.0,>=2.13.0 in c:\\users\\t-relotmani\\ooc\\responsible-ai-workshop\\venv\\lib\\site-packages (from spacy<3.4.0,>=3.3.0.dev0->en-core-web-lg==3.3.0) (2.25.1)\n",
      "Requirement already satisfied: thinc<8.1.0,>=8.0.14 in c:\\users\\t-relotmani\\ooc\\responsible-ai-workshop\\venv\\lib\\site-packages (from spacy<3.4.0,>=3.3.0.dev0->en-core-web-lg==3.3.0) (8.0.15)\n",
      "Requirement already satisfied: tqdm<5.0.0,>=4.38.0 in c:\\users\\t-relotmani\\ooc\\responsible-ai-workshop\\venv\\lib\\site-packages (from spacy<3.4.0,>=3.3.0.dev0->en-core-web-lg==3.3.0) (4.64.0)\n",
      "Requirement already satisfied: jinja2 in c:\\users\\t-relotmani\\ooc\\responsible-ai-workshop\\venv\\lib\\site-packages (from spacy<3.4.0,>=3.3.0.dev0->en-core-web-lg==3.3.0) (2.11.3)\n",
      "Requirement already satisfied: blis<0.8.0,>=0.4.0 in c:\\users\\t-relotmani\\ooc\\responsible-ai-workshop\\venv\\lib\\site-packages (from spacy<3.4.0,>=3.3.0.dev0->en-core-web-lg==3.3.0) (0.7.7)\n",
      "Requirement already satisfied: langcodes<4.0.0,>=3.2.0 in c:\\users\\t-relotmani\\ooc\\responsible-ai-workshop\\venv\\lib\\site-packages (from spacy<3.4.0,>=3.3.0.dev0->en-core-web-lg==3.3.0) (3.3.0)\n",
      "Requirement already satisfied: pydantic!=1.8,!=1.8.1,<1.9.0,>=1.7.4 in c:\\users\\t-relotmani\\ooc\\responsible-ai-workshop\\venv\\lib\\site-packages (from spacy<3.4.0,>=3.3.0.dev0->en-core-web-lg==3.3.0) (1.8.2)\n",
      "Requirement already satisfied: spacy-legacy<3.1.0,>=3.0.9 in c:\\users\\t-relotmani\\ooc\\responsible-ai-workshop\\venv\\lib\\site-packages (from spacy<3.4.0,>=3.3.0.dev0->en-core-web-lg==3.3.0) (3.0.9)\n",
      "Requirement already satisfied: murmurhash<1.1.0,>=0.28.0 in c:\\users\\t-relotmani\\ooc\\responsible-ai-workshop\\venv\\lib\\site-packages (from spacy<3.4.0,>=3.3.0.dev0->en-core-web-lg==3.3.0) (1.0.7)\n",
      "Requirement already satisfied: packaging>=20.0 in c:\\users\\t-relotmani\\ooc\\responsible-ai-workshop\\venv\\lib\\site-packages (from spacy<3.4.0,>=3.3.0.dev0->en-core-web-lg==3.3.0) (21.3)\n",
      "Requirement already satisfied: wasabi<1.1.0,>=0.9.1 in c:\\users\\t-relotmani\\ooc\\responsible-ai-workshop\\venv\\lib\\site-packages (from spacy<3.4.0,>=3.3.0.dev0->en-core-web-lg==3.3.0) (0.9.1)\n",
      "Requirement already satisfied: typer<0.5.0,>=0.3.0 in c:\\users\\t-relotmani\\ooc\\responsible-ai-workshop\\venv\\lib\\site-packages (from spacy<3.4.0,>=3.3.0.dev0->en-core-web-lg==3.3.0) (0.4.1)\n",
      "Requirement already satisfied: numpy>=1.15.0 in c:\\users\\t-relotmani\\ooc\\responsible-ai-workshop\\venv\\lib\\site-packages (from spacy<3.4.0,>=3.3.0.dev0->en-core-web-lg==3.3.0) (1.22.3)\n",
      "Requirement already satisfied: cymem<2.1.0,>=2.0.2 in c:\\users\\t-relotmani\\ooc\\responsible-ai-workshop\\venv\\lib\\site-packages (from spacy<3.4.0,>=3.3.0.dev0->en-core-web-lg==3.3.0) (2.0.6)\n",
      "Requirement already satisfied: smart-open<6.0.0,>=5.0.0 in c:\\users\\t-relotmani\\ooc\\responsible-ai-workshop\\venv\\lib\\site-packages (from pathy>=0.3.5->spacy<3.4.0,>=3.3.0.dev0->en-core-web-lg==3.3.0) (5.2.1)\n",
      "Requirement already satisfied: urllib3<1.27,>=1.21.1 in c:\\users\\t-relotmani\\ooc\\responsible-ai-workshop\\venv\\lib\\site-packages (from requests<3.0.0,>=2.13.0->spacy<3.4.0,>=3.3.0.dev0->en-core-web-lg==3.3.0) (1.26.9)\n",
      "Requirement already satisfied: chardet<5,>=3.0.2 in c:\\users\\t-relotmani\\ooc\\responsible-ai-workshop\\venv\\lib\\site-packages (from requests<3.0.0,>=2.13.0->spacy<3.4.0,>=3.3.0.dev0->en-core-web-lg==3.3.0) (4.0.0)\n",
      "Requirement already satisfied: idna<3,>=2.5 in c:\\users\\t-relotmani\\ooc\\responsible-ai-workshop\\venv\\lib\\site-packages (from requests<3.0.0,>=2.13.0->spacy<3.4.0,>=3.3.0.dev0->en-core-web-lg==3.3.0) (2.10)\n",
      "Requirement already satisfied: certifi>=2017.4.17 in c:\\users\\t-relotmani\\ooc\\responsible-ai-workshop\\venv\\lib\\site-packages (from requests<3.0.0,>=2.13.0->spacy<3.4.0,>=3.3.0.dev0->en-core-web-lg==3.3.0) (2021.10.8)\n",
      "Requirement already satisfied: colorama; platform_system == \"Windows\" in c:\\users\\t-relotmani\\ooc\\responsible-ai-workshop\\venv\\lib\\site-packages (from tqdm<5.0.0,>=4.38.0->spacy<3.4.0,>=3.3.0.dev0->en-core-web-lg==3.3.0) (0.4.4)\n",
      "Requirement already satisfied: MarkupSafe>=0.23 in c:\\users\\t-relotmani\\ooc\\responsible-ai-workshop\\venv\\lib\\site-packages (from jinja2->spacy<3.4.0,>=3.3.0.dev0->en-core-web-lg==3.3.0) (2.0.1)\n",
      "Requirement already satisfied: typing-extensions>=3.7.4.3 in c:\\users\\t-relotmani\\ooc\\responsible-ai-workshop\\venv\\lib\\site-packages (from pydantic!=1.8,!=1.8.1,<1.9.0,>=1.7.4->spacy<3.4.0,>=3.3.0.dev0->en-core-web-lg==3.3.0) (3.10.0.0)\n",
      "Requirement already satisfied: pyparsing!=3.0.5,>=2.0.2 in c:\\users\\t-relotmani\\ooc\\responsible-ai-workshop\\venv\\lib\\site-packages (from packaging>=20.0->spacy<3.4.0,>=3.3.0.dev0->en-core-web-lg==3.3.0) (3.0.8)\n",
      "Requirement already satisfied: click<9.0.0,>=7.1.1 in c:\\users\\t-relotmani\\ooc\\responsible-ai-workshop\\venv\\lib\\site-packages (from typer<0.5.0,>=0.3.0->spacy<3.4.0,>=3.3.0.dev0->en-core-web-lg==3.3.0) (7.1.2)\n",
      "✔ Download and installation successful\n",
      "You can now load the package via spacy.load('en_core_web_lg')\n"
     ]
    }
   ],
   "source": [
    "# Installing packages if not already done\n",
    "#!pip install presidio_analyzer \n",
    "#!pip install presidio_anonymizer\n",
    "\n",
    "# Presidio analyzer requires a spaCy language model. \n",
    "!python -m spacy download en_core_web_lg\n",
    "\n",
    "# Importing the required modules\n",
    "from presidio_analyzer import AnalyzerEngine, PatternRecognizer\n",
    "from presidio_anonymizer import AnonymizerEngine\n",
    "from presidio_anonymizer.entities.engine import OperatorConfig"
   ]
  },
  {
   "cell_type": "markdown",
   "id": "6a18767c-591e-45fb-aa46-6e63da2bb041",
   "metadata": {},
   "source": [
    "**Step 2:** Once the presidio-analyzer package is installed, run this simple analysis script. This will print the result of the PII analysis, in this case the detected phone numbers in the provided text."
   ]
  },
  {
   "cell_type": "code",
   "execution_count": 2,
   "id": "3119e682-5256-4536-b582-977ca36f8032",
   "metadata": {},
   "outputs": [
    {
     "name": "stdout",
     "output_type": "stream",
     "text": [
      "[type: PHONE_NUMBER, start: 46, end: 58, score: 0.75]\n"
     ]
    }
   ],
   "source": [
    "text_to_anonymize = \"His name is Mr. Jones and his phone number is 212-555-5555\"\n",
    "analyzer = AnalyzerEngine()\n",
    "analyzer_results = analyzer.analyze(text=text_to_anonymize, entities=[\"PHONE_NUMBER\"], language='en')\n",
    "\n",
    "print(analyzer_results)"
   ]
  },
  {
   "cell_type": "markdown",
   "id": "08ff134e-bc90-47cb-a9cd-7722e954d023",
   "metadata": {},
   "source": [
    "**Step 3:**  Creating Custom PII Entity Recognizers."
   ]
  },
  {
   "cell_type": "code",
   "execution_count": 3,
   "id": "ebdba327-fdc1-49ad-a131-c808fd3bb3c0",
   "metadata": {},
   "outputs": [
    {
     "data": {
      "text/plain": [
       "[type: TITLE, start: 12, end: 15, score: 1.0,\n",
       " type: PRONOUN, start: 26, end: 29, score: 1.0,\n",
       " type: PERSON, start: 16, end: 21, score: 0.85,\n",
       " type: PHONE_NUMBER, start: 46, end: 58, score: 0.75]"
      ]
     },
     "execution_count": 3,
     "metadata": {},
     "output_type": "execute_result"
    }
   ],
   "source": [
    "from presidio_analyzer import PatternRecognizer\n",
    "\n",
    "text_to_anonymize = \"His name is Mr. Jones and his phone number is 212-555-5555\" \n",
    "titles_recognizer = PatternRecognizer(supported_entity=\"TITLE\",\n",
    "                                      deny_list=[\"Mr.\",\"Mrs.\",\"Miss\"])\n",
    "pronoun_recognizer = PatternRecognizer(supported_entity=\"PRONOUN\",\n",
    "                                      deny_list=[\"he\", \"his\", \"she\", \"hers\"])\n",
    "analyzer.registry.add_recognizer(titles_recognizer)\n",
    "analyzer.registry.add_recognizer(pronoun_recognizer)\n",
    "\n",
    "analyzer_results = analyzer.analyze(text=text_to_anonymize, language='en')\n",
    "\n",
    "analyzer_results"
   ]
  },
  {
   "cell_type": "markdown",
   "id": "b412feb6-ba4f-4331-a3c5-6129d55b91a4",
   "metadata": {},
   "source": [
    "The previous code sample:\n",
    "1. Creates custom titles and pronouns recognizers.\n",
    "2. Adds the new custom recognizers to the analyzer.\n",
    "3. Calls analyzer to get results from the old and new recognizers.\n",
    "\n",
    "It prints all the PII detected including titles and pronouns we just defined."
   ]
  },
  {
   "cell_type": "markdown",
   "id": "91723dbd-5fea-4b72-bcb2-cae7441bb3bc",
   "metadata": {},
   "source": [
    "**Step 4:**  Anonymizing the identified PII entities."
   ]
  },
  {
   "cell_type": "code",
   "execution_count": 4,
   "id": "5653d198-67db-42da-833d-04a2360a20c6",
   "metadata": {},
   "outputs": [
    {
     "data": {
      "text/plain": [
       "'{\"text\": \"His name is  <ANONYMIZED> and <ANONYMIZED> phone number is ************\", \"items\": [{\"start\": 59, \"end\": 71, \"entity_type\": \"PHONE_NUMBER\", \"text\": \"************\", \"operator\": \"mask\"}, {\"start\": 30, \"end\": 42, \"entity_type\": \"PRONOUN\", \"text\": \"<ANONYMIZED>\", \"operator\": \"replace\"}, {\"start\": 13, \"end\": 25, \"entity_type\": \"PERSON\", \"text\": \"<ANONYMIZED>\", \"operator\": \"replace\"}, {\"start\": 12, \"end\": 12, \"entity_type\": \"TITLE\", \"text\": \"\", \"operator\": \"redact\"}]}'"
      ]
     },
     "execution_count": 4,
     "metadata": {},
     "output_type": "execute_result"
    }
   ],
   "source": [
    "from presidio_anonymizer import AnonymizerEngine\n",
    "from presidio_anonymizer.entities.engine import OperatorConfig\n",
    "\n",
    "\n",
    "anonymizer = AnonymizerEngine()\n",
    "\n",
    "\n",
    "anonymized_results = anonymizer.anonymize(\n",
    "    text=text_to_anonymize,\n",
    "    analyzer_results=analyzer_results,    \n",
    "    operators={\"DEFAULT\": OperatorConfig(\"replace\", {\"new_value\": \"<ANONYMIZED>\"}), \n",
    "               \"PHONE_NUMBER\": OperatorConfig(\"mask\", {\"type\": \"mask\", \"masking_char\" : \"*\", \"chars_to_mask\" : 12, \"from_end\" : True}),\n",
    "                \"TITLE\": OperatorConfig(\"redact\", {})}\n",
    ")\n",
    "\n",
    "anonymized_results.to_json()\n"
   ]
  },
  {
   "cell_type": "markdown",
   "id": "9a1dd937-a9a7-4ff2-8100-f7774588685d",
   "metadata": {},
   "source": [
    "The previous code sample:\n",
    "1. Sets up the anonymizer engine.\n",
    "2. Creates an anonymizer request - text to anonymize, list of anonymizers to apply and the results from the analyzer request.\n",
    "3. Anonymizes the text.\n",
    "\n",
    "It prints the anonymized text along with a list of the detected PII entities."
   ]
  },
  {
   "cell_type": "markdown",
   "id": "60990d0c-486c-432c-8519-303645159576",
   "metadata": {},
   "source": [
    "## SmartNoise"
   ]
  },
  {
   "cell_type": "markdown",
   "id": "646a0abf-89fe-4d23-9cce-dc2e53253685",
   "metadata": {},
   "source": [
    "### What is SmartNoise?\n",
    "\n",
    "**SmartNoise** is a joint project by Microsoft and Harvard's Institute for Quantitative Social Science (IQSS) and the School of Engineering and Applied Sciences (SEAS) as part of the OpenDP initiative. It aims to make Differential Privacy broadly accessible.\n",
    "\n",
    "The SmartNoise tools primarily focus on the \"global model\" of **Differential Privacy** where a trusted data collector is presumed to have access to unprotected data and wishes to protect public releases of aggregate information. For example, a hospital having access to patients’ information and wishing to release aggregated statistics about these patients without affecting their privacy.\n",
    "\n",
    "SmartNoise is an open-source project that contains different components for building global differentially private systems. SmartNoise is made up of a core library and an SDK, only the [SmartNoise core library](https://github.com/opendp/smartnoise-core) is explored here."
   ]
  },
  {
   "cell_type": "markdown",
   "id": "3130dffc-e76b-4bd7-a155-317a58c0c5e9",
   "metadata": {},
   "source": [
    "### Goal of this tutorial and steps\n",
    "\n",
    "In this tutorial, we will explore how data can be protected against reidentification using Differential Privacy and the SmartNoise system.\n",
    "The goal is to show how an attacker can leverage basic demographic information like age and zip codes to reidentify individuals even when the sensitive data is published in an anonymized format. Then we show how Differential Privacy can help prevent such an attack. \n",
    "\n",
    "To get there, we follow 3 steps:\n",
    "1. Import of anonymized medical data set and the attacker's data collection\n",
    "2. Reidentification Attack I: Revealing identities from the anonymized data set \n",
    "3. Protecting the medical dataset with differential privacy using Multiple Weights Exponential Mechanism (MWEM)\n",
    "4. Validating the utility of the synthesized data set for statistical analyses\n",
    "5. Reidentification Attack II: Trying to reveal identities based on the differentially private version of the medical data set\n"
   ]
  },
  {
   "cell_type": "markdown",
   "id": "c070e924-ebc9-4777-ae71-7477cd4582ae",
   "metadata": {},
   "source": [
    "**Step 1:** Import of anonymized medical data set and the attacker's data collection"
   ]
  },
  {
   "cell_type": "code",
   "execution_count": 5,
   "id": "4479a116-4920-47a4-bfcd-f7b506fba8fe",
   "metadata": {},
   "outputs": [
    {
     "name": "stdout",
     "output_type": "stream",
     "text": [
      "Collecting git+https://github.com/opendifferentialprivacy/smartnoise-sdk#subdirectory=sdk\n",
      "  Cloning https://github.com/opendifferentialprivacy/smartnoise-sdk to c:\\users\\t-relotmani\\appdata\\local\\temp\\pip-req-build-80iavn5x\n"
     ]
    },
    {
     "name": "stderr",
     "output_type": "stream",
     "text": [
      "    ERROR: Error [WinError 267] The directory name is invalid while executing command python setup.py egg_info\n",
      "ERROR: Could not install packages due to an EnvironmentError: [WinError 267] The directory name is invalid\n",
      "\n",
      "WARNING: You are using pip version 20.2.3; however, version 22.0.4 is available.\n",
      "You should consider upgrading via the 'c:\\users\\t-relotmani\\ooc\\responsible-ai-workshop\\venv\\scripts\\python.exe -m pip install --upgrade pip' command.\n",
      "WARNING: You are using pip version 20.2.3; however, version 22.0.4 is available.\n",
      "You should consider upgrading via the 'c:\\users\\t-relotmani\\ooc\\responsible-ai-workshop\\venv\\scripts\\python.exe -m pip install --upgrade pip' command.\n"
     ]
    },
    {
     "name": "stdout",
     "output_type": "stream",
     "text": [
      "Requirement already satisfied: pip in c:\\users\\t-relotmani\\ooc\\responsible-ai-workshop\\venv\\lib\\site-packages (20.2.3)\n",
      "Requirement already satisfied: install in c:\\users\\t-relotmani\\ooc\\responsible-ai-workshop\\venv\\lib\\site-packages (1.3.5)\n",
      "Requirement already satisfied: opendp-smartnoise-core in c:\\users\\t-relotmani\\ooc\\responsible-ai-workshop\\venv\\lib\\site-packages (0.2.3)\n",
      "Requirement already satisfied: faker in c:\\users\\t-relotmani\\ooc\\responsible-ai-workshop\\venv\\lib\\site-packages (13.7.0)\n",
      "Requirement already satisfied: zipcodes in c:\\users\\t-relotmani\\ooc\\responsible-ai-workshop\\venv\\lib\\site-packages (1.2.0)\n",
      "Requirement already satisfied: tqdm in c:\\users\\t-relotmani\\ooc\\responsible-ai-workshop\\venv\\lib\\site-packages (4.64.0)\n",
      "Requirement already satisfied: opendp-smartnoise in c:\\users\\t-relotmani\\ooc\\responsible-ai-workshop\\venv\\lib\\site-packages (0.1.4.2)\n",
      "Requirement already satisfied: protobuf in c:\\users\\t-relotmani\\ooc\\responsible-ai-workshop\\venv\\lib\\site-packages (from opendp-smartnoise-core) (3.20.1)\n",
      "Requirement already satisfied: numpy in c:\\users\\t-relotmani\\ooc\\responsible-ai-workshop\\venv\\lib\\site-packages (from opendp-smartnoise-core) (1.22.3)\n",
      "Requirement already satisfied: python-dateutil>=2.4 in c:\\users\\t-relotmani\\ooc\\responsible-ai-workshop\\venv\\lib\\site-packages (from faker) (2.8.2)\n",
      "Requirement already satisfied: colorama; platform_system == \"Windows\" in c:\\users\\t-relotmani\\ooc\\responsible-ai-workshop\\venv\\lib\\site-packages (from tqdm) (0.4.4)\n",
      "Requirement already satisfied: pandasql in c:\\users\\t-relotmani\\ooc\\responsible-ai-workshop\\venv\\lib\\site-packages (from opendp-smartnoise) (0.7.3)\n",
      "Requirement already satisfied: scipy in c:\\users\\t-relotmani\\ooc\\responsible-ai-workshop\\venv\\lib\\site-packages (from opendp-smartnoise) (1.8.0)\n",
      "Requirement already satisfied: pyyaml in c:\\users\\t-relotmani\\ooc\\responsible-ai-workshop\\venv\\lib\\site-packages (from opendp-smartnoise) (5.4.1)\n",
      "Requirement already satisfied: msrest in c:\\users\\t-relotmani\\ooc\\responsible-ai-workshop\\venv\\lib\\site-packages (from opendp-smartnoise) (0.6.21)\n",
      "Requirement already satisfied: antlr4-python3-runtime==4.8 in c:\\users\\t-relotmani\\ooc\\responsible-ai-workshop\\venv\\lib\\site-packages (from opendp-smartnoise) (4.8)\n",
      "Requirement already satisfied: statsmodels in c:\\users\\t-relotmani\\ooc\\responsible-ai-workshop\\venv\\lib\\site-packages (from opendp-smartnoise) (0.13.2)\n",
      "Requirement already satisfied: pandas in c:\\users\\t-relotmani\\ooc\\responsible-ai-workshop\\venv\\lib\\site-packages (from opendp-smartnoise) (1.3.5)\n",
      "Requirement already satisfied: six>=1.5 in c:\\users\\t-relotmani\\ooc\\responsible-ai-workshop\\venv\\lib\\site-packages (from python-dateutil>=2.4->faker) (1.16.0)\n",
      "Requirement already satisfied: sqlalchemy in c:\\users\\t-relotmani\\ooc\\responsible-ai-workshop\\venv\\lib\\site-packages (from pandasql->opendp-smartnoise) (1.4.36)\n",
      "Requirement already satisfied: isodate>=0.6.0 in c:\\users\\t-relotmani\\ooc\\responsible-ai-workshop\\venv\\lib\\site-packages (from msrest->opendp-smartnoise) (0.6.1)\n",
      "Requirement already satisfied: certifi>=2017.4.17 in c:\\users\\t-relotmani\\ooc\\responsible-ai-workshop\\venv\\lib\\site-packages (from msrest->opendp-smartnoise) (2021.10.8)\n",
      "Requirement already satisfied: requests-oauthlib>=0.5.0 in c:\\users\\t-relotmani\\ooc\\responsible-ai-workshop\\venv\\lib\\site-packages (from msrest->opendp-smartnoise) (1.3.1)\n",
      "Requirement already satisfied: requests~=2.16 in c:\\users\\t-relotmani\\ooc\\responsible-ai-workshop\\venv\\lib\\site-packages (from msrest->opendp-smartnoise) (2.25.1)\n",
      "Requirement already satisfied: packaging>=21.3 in c:\\users\\t-relotmani\\ooc\\responsible-ai-workshop\\venv\\lib\\site-packages (from statsmodels->opendp-smartnoise) (21.3)\n",
      "Requirement already satisfied: patsy>=0.5.2 in c:\\users\\t-relotmani\\ooc\\responsible-ai-workshop\\venv\\lib\\site-packages (from statsmodels->opendp-smartnoise) (0.5.2)\n",
      "Requirement already satisfied: pytz>=2017.3 in c:\\users\\t-relotmani\\ooc\\responsible-ai-workshop\\venv\\lib\\site-packages (from pandas->opendp-smartnoise) (2022.1)\n",
      "Requirement already satisfied: greenlet!=0.4.17; python_version >= \"3\" and (platform_machine == \"aarch64\" or (platform_machine == \"ppc64le\" or (platform_machine == \"x86_64\" or (platform_machine == \"amd64\" or (platform_machine == \"AMD64\" or (platform_machine == \"win32\" or platform_machine == \"WIN32\")))))) in c:\\users\\t-relotmani\\ooc\\responsible-ai-workshop\\venv\\lib\\site-packages (from sqlalchemy->pandasql->opendp-smartnoise) (1.1.2)\n",
      "Requirement already satisfied: oauthlib>=3.0.0 in c:\\users\\t-relotmani\\ooc\\responsible-ai-workshop\\venv\\lib\\site-packages (from requests-oauthlib>=0.5.0->msrest->opendp-smartnoise) (3.2.0)\n",
      "Requirement already satisfied: chardet<5,>=3.0.2 in c:\\users\\t-relotmani\\ooc\\responsible-ai-workshop\\venv\\lib\\site-packages (from requests~=2.16->msrest->opendp-smartnoise) (4.0.0)\n",
      "Requirement already satisfied: idna<3,>=2.5 in c:\\users\\t-relotmani\\ooc\\responsible-ai-workshop\\venv\\lib\\site-packages (from requests~=2.16->msrest->opendp-smartnoise) (2.10)\n",
      "Requirement already satisfied: urllib3<1.27,>=1.21.1 in c:\\users\\t-relotmani\\ooc\\responsible-ai-workshop\\venv\\lib\\site-packages (from requests~=2.16->msrest->opendp-smartnoise) (1.26.9)\n",
      "Requirement already satisfied: pyparsing!=3.0.5,>=2.0.2 in c:\\users\\t-relotmani\\ooc\\responsible-ai-workshop\\venv\\lib\\site-packages (from packaging>=21.3->statsmodels->opendp-smartnoise) (3.0.8)\n",
      "Requirement already satisfied: z3-solver==4.8.9.0 in c:\\users\\t-relotmani\\ooc\\responsible-ai-workshop\\venv\\lib\\site-packages (4.8.9.0)\n"
     ]
    },
    {
     "name": "stderr",
     "output_type": "stream",
     "text": [
      "WARNING: You are using pip version 20.2.3; however, version 22.0.4 is available.\n",
      "You should consider upgrading via the 'c:\\users\\t-relotmani\\ooc\\responsible-ai-workshop\\venv\\scripts\\python.exe -m pip install --upgrade pip' command.\n"
     ]
    }
   ],
   "source": [
    "# Install required libraries, uncomment if needed\n",
    "!pip install pip install opendp-smartnoise-core faker zipcodes tqdm opendp-smartnoise\n",
    "!pip install z3-solver==4.8.9.0"
   ]
  },
  {
   "cell_type": "code",
   "execution_count": null,
   "id": "d40717cf",
   "metadata": {},
   "outputs": [],
   "source": [
    "!curl -o reident_tools.py https://raw.githubusercontent.com/opendp/smartnoise-sdk/d0209cf033c942dcfd7274faa93765b675446abe/synth/samples/whitepaper-demos/reident_tools.py"
   ]
  },
  {
   "cell_type": "code",
   "execution_count": 6,
   "id": "30854a3e-16b2-42ab-a678-1e57d24669d2",
   "metadata": {},
   "outputs": [],
   "source": [
    "import warnings\n",
    "warnings.filterwarnings(\"ignore\")\n",
    "\n",
    "import logging\n",
    "logger = logging.getLogger()\n",
    "logger.setLevel(logging.INFO)\n",
    "import pandas as pd\n",
    "import numpy as np\n",
    "import random\n",
    "import string\n",
    "import uuid\n",
    "import time\n",
    "import logging\n",
    "from datetime import datetime\n",
    "import matplotlib.pyplot as plt\n",
    "from tqdm import tqdm\n",
    "import reident_tools as reident\n",
    "from opendp.smartnoise.synthesizers.mwem import MWEMSynthesizer\n",
    "\n",
    "%config InlineBackend.figure_format = 'retina'\n",
    "%load_ext autoreload\n",
    "%autoreload 2"
   ]
  },
  {
   "cell_type": "code",
   "execution_count": 7,
   "id": "85b7df4a-b8ce-440c-a697-91c0bb6d1ceb",
   "metadata": {},
   "outputs": [
    {
     "name": "stdout",
     "output_type": "stream",
     "text": [
      "Anonymized dataset including sensitive medical information:\n"
     ]
    },
    {
     "data": {
      "text/html": [
       "<div>\n",
       "<style scoped>\n",
       "    .dataframe tbody tr th:only-of-type {\n",
       "        vertical-align: middle;\n",
       "    }\n",
       "\n",
       "    .dataframe tbody tr th {\n",
       "        vertical-align: top;\n",
       "    }\n",
       "\n",
       "    .dataframe thead th {\n",
       "        text-align: right;\n",
       "    }\n",
       "</style>\n",
       "<table border=\"1\" class=\"dataframe\">\n",
       "  <thead>\n",
       "    <tr style=\"text-align: right;\">\n",
       "      <th></th>\n",
       "      <th>Gender</th>\n",
       "      <th>Age</th>\n",
       "      <th>Zip</th>\n",
       "      <th>Diagnosis</th>\n",
       "      <th>Treatment</th>\n",
       "      <th>Outcome</th>\n",
       "    </tr>\n",
       "  </thead>\n",
       "  <tbody>\n",
       "    <tr>\n",
       "      <th>22938</th>\n",
       "      <td>M</td>\n",
       "      <td>60-69</td>\n",
       "      <td>815**</td>\n",
       "      <td>High Blood Pressure</td>\n",
       "      <td>38</td>\n",
       "      <td>recovered</td>\n",
       "    </tr>\n",
       "    <tr>\n",
       "      <th>15111</th>\n",
       "      <td>M</td>\n",
       "      <td>80-89</td>\n",
       "      <td>404**</td>\n",
       "      <td>Heart Disease</td>\n",
       "      <td>25</td>\n",
       "      <td>recovered</td>\n",
       "    </tr>\n",
       "    <tr>\n",
       "      <th>14573</th>\n",
       "      <td>F</td>\n",
       "      <td>40-49</td>\n",
       "      <td>176**</td>\n",
       "      <td>Osteoporosis</td>\n",
       "      <td>37</td>\n",
       "      <td>intensive care</td>\n",
       "    </tr>\n",
       "    <tr>\n",
       "      <th>12415</th>\n",
       "      <td>F</td>\n",
       "      <td>50-59</td>\n",
       "      <td>944**</td>\n",
       "      <td>Cancer</td>\n",
       "      <td>22</td>\n",
       "      <td>unchanged</td>\n",
       "    </tr>\n",
       "    <tr>\n",
       "      <th>15702</th>\n",
       "      <td>M</td>\n",
       "      <td>60-69</td>\n",
       "      <td>116**</td>\n",
       "      <td>Arthritis</td>\n",
       "      <td>43</td>\n",
       "      <td>unchanged</td>\n",
       "    </tr>\n",
       "    <tr>\n",
       "      <th>18384</th>\n",
       "      <td>M</td>\n",
       "      <td>10-19</td>\n",
       "      <td>772**</td>\n",
       "      <td>Diabetes</td>\n",
       "      <td>38</td>\n",
       "      <td>recovered</td>\n",
       "    </tr>\n",
       "    <tr>\n",
       "      <th>28442</th>\n",
       "      <td>M</td>\n",
       "      <td>80-89</td>\n",
       "      <td>492**</td>\n",
       "      <td>COPD</td>\n",
       "      <td>21</td>\n",
       "      <td>unchanged</td>\n",
       "    </tr>\n",
       "    <tr>\n",
       "      <th>17321</th>\n",
       "      <td>F</td>\n",
       "      <td>40-49</td>\n",
       "      <td>915**</td>\n",
       "      <td>Depression</td>\n",
       "      <td>34</td>\n",
       "      <td>recovered</td>\n",
       "    </tr>\n",
       "  </tbody>\n",
       "</table>\n",
       "</div>"
      ],
      "text/plain": [
       "      Gender    Age    Zip            Diagnosis  Treatment         Outcome\n",
       "22938      M  60-69  815**  High Blood Pressure         38       recovered\n",
       "15111      M  80-89  404**        Heart Disease         25       recovered\n",
       "14573      F  40-49  176**         Osteoporosis         37  intensive care\n",
       "12415      F  50-59  944**               Cancer         22       unchanged\n",
       "15702      M  60-69  116**            Arthritis         43       unchanged\n",
       "18384      M  10-19  772**             Diabetes         38       recovered\n",
       "28442      M  80-89  492**                 COPD         21       unchanged\n",
       "17321      F  40-49  915**           Depression         34       recovered"
      ]
     },
     "metadata": {},
     "output_type": "display_data"
    },
    {
     "name": "stdout",
     "output_type": "stream",
     "text": [
      "Attacker`s data collection with basic demographic information:\n"
     ]
    },
    {
     "data": {
      "text/html": [
       "<div>\n",
       "<style scoped>\n",
       "    .dataframe tbody tr th:only-of-type {\n",
       "        vertical-align: middle;\n",
       "    }\n",
       "\n",
       "    .dataframe tbody tr th {\n",
       "        vertical-align: top;\n",
       "    }\n",
       "\n",
       "    .dataframe thead th {\n",
       "        text-align: right;\n",
       "    }\n",
       "</style>\n",
       "<table border=\"1\" class=\"dataframe\">\n",
       "  <thead>\n",
       "    <tr style=\"text-align: right;\">\n",
       "      <th></th>\n",
       "      <th>Name</th>\n",
       "      <th>Gender</th>\n",
       "      <th>Age</th>\n",
       "      <th>Zip</th>\n",
       "    </tr>\n",
       "  </thead>\n",
       "  <tbody>\n",
       "    <tr>\n",
       "      <th>2187</th>\n",
       "      <td>Eric Ford</td>\n",
       "      <td>M</td>\n",
       "      <td>20</td>\n",
       "      <td>84676</td>\n",
       "    </tr>\n",
       "    <tr>\n",
       "      <th>8040</th>\n",
       "      <td>Emily Logan</td>\n",
       "      <td>F</td>\n",
       "      <td>74</td>\n",
       "      <td>80362</td>\n",
       "    </tr>\n",
       "    <tr>\n",
       "      <th>13901</th>\n",
       "      <td>Mr. Eric Johnson</td>\n",
       "      <td>M</td>\n",
       "      <td>62</td>\n",
       "      <td>97374</td>\n",
       "    </tr>\n",
       "    <tr>\n",
       "      <th>6493</th>\n",
       "      <td>Adam Hebert</td>\n",
       "      <td>M</td>\n",
       "      <td>18</td>\n",
       "      <td>89692</td>\n",
       "    </tr>\n",
       "    <tr>\n",
       "      <th>25088</th>\n",
       "      <td>Elizabeth Gonzalez</td>\n",
       "      <td>F</td>\n",
       "      <td>27</td>\n",
       "      <td>52050</td>\n",
       "    </tr>\n",
       "    <tr>\n",
       "      <th>228</th>\n",
       "      <td>Craig Rasmussen</td>\n",
       "      <td>M</td>\n",
       "      <td>42</td>\n",
       "      <td>78142</td>\n",
       "    </tr>\n",
       "    <tr>\n",
       "      <th>28081</th>\n",
       "      <td>Heather Chandler DDS</td>\n",
       "      <td>F</td>\n",
       "      <td>26</td>\n",
       "      <td>55282</td>\n",
       "    </tr>\n",
       "    <tr>\n",
       "      <th>19131</th>\n",
       "      <td>Bobby Johnson</td>\n",
       "      <td>M</td>\n",
       "      <td>45</td>\n",
       "      <td>10826</td>\n",
       "    </tr>\n",
       "  </tbody>\n",
       "</table>\n",
       "</div>"
      ],
      "text/plain": [
       "                       Name Gender  Age    Zip\n",
       "2187              Eric Ford      M   20  84676\n",
       "8040            Emily Logan      F   74  80362\n",
       "13901      Mr. Eric Johnson      M   62  97374\n",
       "6493            Adam Hebert      M   18  89692\n",
       "25088    Elizabeth Gonzalez      F   27  52050\n",
       "228         Craig Rasmussen      M   42  78142\n",
       "28081  Heather Chandler DDS      F   26  55282\n",
       "19131         Bobby Johnson      M   45  10826"
      ]
     },
     "metadata": {},
     "output_type": "display_data"
    }
   ],
   "source": [
    "# Read files\n",
    "df_medical = pd.read_csv('data/data_medical.csv', sep=\",\", encoding=\"utf-8\").infer_objects()\n",
    "df_medical['Zip'] = df_medical['Zip'].astype(str)\n",
    "print('Anonymized dataset including sensitive medical information:')\n",
    "display(df_medical.iloc[:,1:].sample(8))\n",
    "df_demographic = pd.read_csv('data/data_demographic.csv', sep=\",\", encoding=\"utf-8\").infer_objects()\n",
    "print('Attacker`s data collection with basic demographic information:')\n",
    "df_demographic['Zip'] = df_demographic['Zip'].astype(str)\n",
    "display(df_demographic.iloc[:,1:].sample(8))\n",
    "df_medical_synth = pd.read_csv('data/data_medical_synthesizer.csv', sep=\",\", encoding=\"utf-8\").infer_objects()\n",
    "df_medical_synth['Zip'] = df_medical_synth['Zip'].astype(str)"
   ]
  },
  {
   "cell_type": "markdown",
   "id": "3c81bbf6-858d-4019-9634-6b37bfdf10dd",
   "metadata": {},
   "source": [
    "**Step 2:** Reidentification Attack I: Revealing identities from the anonymized data set"
   ]
  },
  {
   "cell_type": "code",
   "execution_count": 8,
   "id": "47fc6a73-9d89-458b-bb72-e6a6a3d5c896",
   "metadata": {},
   "outputs": [
    {
     "name": "stderr",
     "output_type": "stream",
     "text": [
      "INFO:root:Performing reidentification with anonymized data: 30000. Attacker collection: 30000\n",
      "100%|██████████| 30000/30000 [14:47<00:00, 33.82it/s]  \n",
      "INFO:root:Identified 28962 potential matches!\n",
      "INFO:root:Validating IDs ...\n",
      "100%|██████████| 28962/28962 [00:01<00:00, 19155.38it/s]\n",
      "INFO:root:Identified 9129 actual (validated) matches!\n"
     ]
    },
    {
     "name": "stdout",
     "output_type": "stream",
     "text": [
      "Wall time: 14min 48s\n"
     ]
    }
   ],
   "source": [
    "%%time\n",
    "reident_attack = reident.try_reidentification(df_demographic, df_medical, logger)"
   ]
  },
  {
   "cell_type": "code",
   "execution_count": 9,
   "id": "1cc3734d-c464-4545-beba-ebd2ade4b1f0",
   "metadata": {},
   "outputs": [
    {
     "name": "stdout",
     "output_type": "stream",
     "text": [
      "Found: 9129 actual (validated) matches!\n"
     ]
    }
   ],
   "source": [
    "print(f'Found: {len(reident_attack[reident_attack[\"ID_Match\"]==True])} actual (validated) matches!')"
   ]
  },
  {
   "cell_type": "markdown",
   "id": "231d3aa8-d95f-49b0-b88f-77a24a0dd5ee",
   "metadata": {},
   "source": [
    "**Step 3:** Protecting the medical dataset with differential privacy using Multiple Weights Exponential Mechanism (MWEM)\n",
    "\n",
    "First we encode the input data using the do_encode-function to make it compatible with the MWEM synthesizer. Data before encoding looks like this."
   ]
  },
  {
   "cell_type": "code",
   "execution_count": 10,
   "id": "fdad51a3-0799-494a-90e4-7da170871d50",
   "metadata": {},
   "outputs": [
    {
     "data": {
      "text/html": [
       "<div>\n",
       "<style scoped>\n",
       "    .dataframe tbody tr th:only-of-type {\n",
       "        vertical-align: middle;\n",
       "    }\n",
       "\n",
       "    .dataframe tbody tr th {\n",
       "        vertical-align: top;\n",
       "    }\n",
       "\n",
       "    .dataframe thead th {\n",
       "        text-align: right;\n",
       "    }\n",
       "</style>\n",
       "<table border=\"1\" class=\"dataframe\">\n",
       "  <thead>\n",
       "    <tr style=\"text-align: right;\">\n",
       "      <th></th>\n",
       "      <th>Gender</th>\n",
       "      <th>Age</th>\n",
       "      <th>Zip</th>\n",
       "      <th>Diagnosis</th>\n",
       "      <th>Treatment</th>\n",
       "      <th>Outcome</th>\n",
       "    </tr>\n",
       "  </thead>\n",
       "  <tbody>\n",
       "    <tr>\n",
       "      <th>0</th>\n",
       "      <td>F</td>\n",
       "      <td>10</td>\n",
       "      <td>65418</td>\n",
       "      <td>High Blood Pressure</td>\n",
       "      <td>25</td>\n",
       "      <td>intensive care</td>\n",
       "    </tr>\n",
       "    <tr>\n",
       "      <th>1</th>\n",
       "      <td>F</td>\n",
       "      <td>14</td>\n",
       "      <td>65475</td>\n",
       "      <td>COPD</td>\n",
       "      <td>48</td>\n",
       "      <td>unchanged</td>\n",
       "    </tr>\n",
       "    <tr>\n",
       "      <th>2</th>\n",
       "      <td>F</td>\n",
       "      <td>10</td>\n",
       "      <td>65484</td>\n",
       "      <td>High Blood Pressure</td>\n",
       "      <td>38</td>\n",
       "      <td>intensive care</td>\n",
       "    </tr>\n",
       "    <tr>\n",
       "      <th>3</th>\n",
       "      <td>F</td>\n",
       "      <td>30</td>\n",
       "      <td>27727</td>\n",
       "      <td>Heart Disease</td>\n",
       "      <td>31</td>\n",
       "      <td>unchanged</td>\n",
       "    </tr>\n",
       "    <tr>\n",
       "      <th>4</th>\n",
       "      <td>F</td>\n",
       "      <td>36</td>\n",
       "      <td>27772</td>\n",
       "      <td>Diabetes</td>\n",
       "      <td>34</td>\n",
       "      <td>unchanged</td>\n",
       "    </tr>\n",
       "  </tbody>\n",
       "</table>\n",
       "</div>"
      ],
      "text/plain": [
       "  Gender  Age    Zip            Diagnosis  Treatment         Outcome\n",
       "0      F   10  65418  High Blood Pressure         25  intensive care\n",
       "1      F   14  65475                 COPD         48       unchanged\n",
       "2      F   10  65484  High Blood Pressure         38  intensive care\n",
       "3      F   30  27727        Heart Disease         31       unchanged\n",
       "4      F   36  27772             Diabetes         34       unchanged"
      ]
     },
     "execution_count": 10,
     "metadata": {},
     "output_type": "execute_result"
    }
   ],
   "source": [
    "# Prepare data set for reidentification, using the medical data set and the full zip copied from the demographic set\n",
    "df_reident_synth = df_medical[['Gender', 'Age', 'Zip', 'Diagnosis', 'Treatment', 'Outcome']].copy()\n",
    "df_reident_synth['Zip'] = df_demographic['Zip'].copy()\n",
    "df_reident_synth['Age'] = df_demographic['Age'].copy()\n",
    "df_reident_synth.head()"
   ]
  },
  {
   "cell_type": "markdown",
   "id": "97d4821c-3f1d-4508-a2a6-40996c0ee3dd",
   "metadata": {},
   "source": [
    "Data after encoding looks like this:"
   ]
  },
  {
   "cell_type": "code",
   "execution_count": 11,
   "id": "8483656f-d712-40d7-b7cd-133a9de10eb1",
   "metadata": {},
   "outputs": [
    {
     "data": {
      "text/html": [
       "<div>\n",
       "<style scoped>\n",
       "    .dataframe tbody tr th:only-of-type {\n",
       "        vertical-align: middle;\n",
       "    }\n",
       "\n",
       "    .dataframe tbody tr th {\n",
       "        vertical-align: top;\n",
       "    }\n",
       "\n",
       "    .dataframe thead th {\n",
       "        text-align: right;\n",
       "    }\n",
       "</style>\n",
       "<table border=\"1\" class=\"dataframe\">\n",
       "  <thead>\n",
       "    <tr style=\"text-align: right;\">\n",
       "      <th></th>\n",
       "      <th>Gender_encoded</th>\n",
       "      <th>Age_encoded</th>\n",
       "      <th>Zip_encoded</th>\n",
       "      <th>Diagnosis_encoded</th>\n",
       "    </tr>\n",
       "  </thead>\n",
       "  <tbody>\n",
       "    <tr>\n",
       "      <th>0</th>\n",
       "      <td>0</td>\n",
       "      <td>10</td>\n",
       "      <td>65418</td>\n",
       "      <td>9</td>\n",
       "    </tr>\n",
       "    <tr>\n",
       "      <th>1</th>\n",
       "      <td>0</td>\n",
       "      <td>14</td>\n",
       "      <td>65475</td>\n",
       "      <td>2</td>\n",
       "    </tr>\n",
       "    <tr>\n",
       "      <th>2</th>\n",
       "      <td>0</td>\n",
       "      <td>10</td>\n",
       "      <td>65484</td>\n",
       "      <td>9</td>\n",
       "    </tr>\n",
       "    <tr>\n",
       "      <th>3</th>\n",
       "      <td>0</td>\n",
       "      <td>30</td>\n",
       "      <td>27727</td>\n",
       "      <td>7</td>\n",
       "    </tr>\n",
       "    <tr>\n",
       "      <th>4</th>\n",
       "      <td>0</td>\n",
       "      <td>36</td>\n",
       "      <td>27772</td>\n",
       "      <td>3</td>\n",
       "    </tr>\n",
       "  </tbody>\n",
       "</table>\n",
       "</div>"
      ],
      "text/plain": [
       "   Gender_encoded  Age_encoded  Zip_encoded  Diagnosis_encoded\n",
       "0               0           10        65418                  9\n",
       "1               0           14        65475                  2\n",
       "2               0           10        65484                  9\n",
       "3               0           30        27727                  7\n",
       "4               0           36        27772                  3"
      ]
     },
     "execution_count": 11,
     "metadata": {},
     "output_type": "execute_result"
    }
   ],
   "source": [
    "# Encode the data set and display it\n",
    "df_reident_encoded = reident.do_encode(df_reident_synth, ['Gender', 'Age', 'Zip', 'Diagnosis'], reident.diseases)\n",
    "df_reident_encoded.head()"
   ]
  },
  {
   "cell_type": "markdown",
   "id": "a78e8151-3521-4f5a-b874-974fe2aee2df",
   "metadata": {},
   "source": [
    "Now we are ready for synthesizing the fake demographic data:"
   ]
  },
  {
   "cell_type": "code",
   "execution_count": 12,
   "id": "1927d8fb-9082-4370-b124-1d8a33aef91f",
   "metadata": {},
   "outputs": [
    {
     "name": "stdout",
     "output_type": "stream",
     "text": [
      "Wall time: 18.8 s\n"
     ]
    }
   ],
   "source": [
    "%%time\n",
    "# Apply the synthesizer to the data set\n",
    "synthetic_data = MWEMSynthesizer(q_count = 400,\n",
    "                        epsilon = 3.00,\n",
    "                        iterations = 60,\n",
    "                        mult_weights_iterations = 40,\n",
    "                        splits = [],\n",
    "                        split_factor = 1)\n",
    "synthetic_data.fit(df_reident_encoded.to_numpy())\n",
    "# Convert to dataframe\n",
    "df_synthesized = pd.DataFrame(synthetic_data.sample(int(df_reident_encoded.shape[0])), columns=df_reident_encoded.columns)"
   ]
  },
  {
   "cell_type": "markdown",
   "id": "a04add95-e6fb-4f7c-b61c-77e3e9563081",
   "metadata": {},
   "source": [
    "Then we compare the distributions of both datasets:"
   ]
  },
  {
   "cell_type": "code",
   "execution_count": 13,
   "id": "62973fbf-f1b4-43e9-8f17-3d54ef998f35",
   "metadata": {},
   "outputs": [
    {
     "data": {
      "image/png": "[encoded data removed]",
      "text/plain": [
       "<Figure size 1080x576 with 1 Axes>"
      ]
     },
     "metadata": {
      "image/png": {
       "height": 485,
       "width": 912
      },
      "needs_background": "light"
     },
     "output_type": "display_data"
    }
   ],
   "source": [
    "reident.create_histogram(df_reident_encoded, df_synthesized, 'Diagnosis_encoded', reident.diseases)"
   ]
  },
  {
   "cell_type": "markdown",
   "id": "afd2f34d-d272-41c5-898e-469b1d5f2d26",
   "metadata": {},
   "source": [
    "**Step 4:** Reidentification Attack II - Trying to reveal identities based on the differentially private version of the medical data set"
   ]
  },
  {
   "cell_type": "code",
   "execution_count": 14,
   "id": "6984fb24-9f2c-48ad-8630-968779719593",
   "metadata": {},
   "outputs": [
    {
     "name": "stderr",
     "output_type": "stream",
     "text": [
      "INFO:root:Trying reidentification with differential privacy-protected data: 30000. Attacker collection: 30000\n",
      "INFO:root:In this setup, we can only count potential matches. We cannot validate for actual matches, as we do not have the unique patient ids after synthesizing.\n",
      "100%|██████████| 30000/30000 [04:17<00:00, 116.65it/s]\n",
      "INFO:root:Identified 0 potential matches!\n"
     ]
    }
   ],
   "source": [
    "reident_attack_2 = reident.try_reidentification_noise(df_synthesized, df_medical_synth, logger)"
   ]
  },
  {
   "cell_type": "code",
   "execution_count": 15,
   "id": "716eb340-45e2-4893-8bdc-959a5e434024",
   "metadata": {},
   "outputs": [
    {
     "name": "stdout",
     "output_type": "stream",
     "text": [
      "Found 0 potential matches!\n"
     ]
    },
    {
     "data": {
      "text/html": [
       "<div>\n",
       "<style scoped>\n",
       "    .dataframe tbody tr th:only-of-type {\n",
       "        vertical-align: middle;\n",
       "    }\n",
       "\n",
       "    .dataframe tbody tr th {\n",
       "        vertical-align: top;\n",
       "    }\n",
       "\n",
       "    .dataframe thead th {\n",
       "        text-align: right;\n",
       "    }\n",
       "</style>\n",
       "<table border=\"1\" class=\"dataframe\">\n",
       "  <thead>\n",
       "    <tr style=\"text-align: right;\">\n",
       "      <th></th>\n",
       "      <th>ID</th>\n",
       "      <th>Gender</th>\n",
       "      <th>Age</th>\n",
       "      <th>Zip</th>\n",
       "      <th>Diagnosis</th>\n",
       "      <th>Treatment</th>\n",
       "      <th>Outcome</th>\n",
       "    </tr>\n",
       "  </thead>\n",
       "  <tbody>\n",
       "  </tbody>\n",
       "</table>\n",
       "</div>"
      ],
      "text/plain": [
       "Empty DataFrame\n",
       "Columns: [ID, Gender, Age, Zip, Diagnosis, Treatment, Outcome]\n",
       "Index: []"
      ]
     },
     "execution_count": 15,
     "metadata": {},
     "output_type": "execute_result"
    }
   ],
   "source": [
    "print(f'Found {len(reident_attack_2)} potential matches!')\n",
    "reident_attack_2.head()"
   ]
  },
  {
   "cell_type": "markdown",
   "id": "e33d724b-517e-4277-baa4-5402276540ca",
   "metadata": {},
   "source": [
    "This time, we were able to reidentify no records at all using the synthesized. This demonstrates the magic behind Differential Privacy, it allows to protect against reidentification attacks by masking individual contributions and providing mathematical guarantees of privacy, while still preserving the distribution and thus summary statistics of the data."
   ]
  }
 ],
 "metadata": {
  "kernelspec": {
   "display_name": "Python 3",
   "language": "python",
   "name": "python3"
  },
  "language_info": {
   "codemirror_mode": {
    "name": "ipython",
    "version": 3
   },
   "file_extension": ".py",
   "mimetype": "text/x-python",
   "name": "python",
   "nbconvert_exporter": "python",
   "pygments_lexer": "ipython3",
   "version": "3.8.8"
  }
 },
 "nbformat": 4,
 "nbformat_minor": 5
}
